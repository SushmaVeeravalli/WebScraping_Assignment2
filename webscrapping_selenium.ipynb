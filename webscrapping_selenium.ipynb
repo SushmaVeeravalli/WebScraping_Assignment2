{
 "cells": [
  {
   "cell_type": "code",
   "execution_count": 1,
   "id": "37a094f9",
   "metadata": {},
   "outputs": [
    {
     "name": "stdout",
     "output_type": "stream",
     "text": [
      "Requirement already satisfied: selenium in c:\\users\\sruth\\anaconda3\\lib\\site-packages (4.1.3)\n",
      "Requirement already satisfied: trio~=0.17 in c:\\users\\sruth\\anaconda3\\lib\\site-packages (from selenium) (0.20.0)\n",
      "Requirement already satisfied: urllib3[secure,socks]~=1.26 in c:\\users\\sruth\\anaconda3\\lib\\site-packages (from selenium) (1.26.7)\n",
      "Requirement already satisfied: trio-websocket~=0.9 in c:\\users\\sruth\\anaconda3\\lib\\site-packages (from selenium) (0.9.2)\n",
      "Requirement already satisfied: cffi>=1.14 in c:\\users\\sruth\\anaconda3\\lib\\site-packages (from trio~=0.17->selenium) (1.14.6)\n",
      "Requirement already satisfied: sortedcontainers in c:\\users\\sruth\\anaconda3\\lib\\site-packages (from trio~=0.17->selenium) (2.4.0)\n",
      "Requirement already satisfied: idna in c:\\users\\sruth\\anaconda3\\lib\\site-packages (from trio~=0.17->selenium) (3.2)\n",
      "Requirement already satisfied: outcome in c:\\users\\sruth\\anaconda3\\lib\\site-packages (from trio~=0.17->selenium) (1.1.0)\n",
      "Requirement already satisfied: async-generator>=1.9 in c:\\users\\sruth\\anaconda3\\lib\\site-packages (from trio~=0.17->selenium) (1.10)\n",
      "Requirement already satisfied: sniffio in c:\\users\\sruth\\anaconda3\\lib\\site-packages (from trio~=0.17->selenium) (1.2.0)\n",
      "Requirement already satisfied: attrs>=19.2.0 in c:\\users\\sruth\\anaconda3\\lib\\site-packages (from trio~=0.17->selenium) (21.2.0)\n",
      "Requirement already satisfied: pycparser in c:\\users\\sruth\\anaconda3\\lib\\site-packages (from cffi>=1.14->trio~=0.17->selenium) (2.20)\n",
      "Requirement already satisfied: wsproto>=0.14 in c:\\users\\sruth\\anaconda3\\lib\\site-packages (from trio-websocket~=0.9->selenium) (1.1.0)\n",
      "Requirement already satisfied: pyOpenSSL>=0.14 in c:\\users\\sruth\\anaconda3\\lib\\site-packages (from urllib3[secure,socks]~=1.26->selenium) (21.0.0)\n",
      "Requirement already satisfied: cryptography>=1.3.4 in c:\\users\\sruth\\anaconda3\\lib\\site-packages (from urllib3[secure,socks]~=1.26->selenium) (3.4.8)\n",
      "Requirement already satisfied: certifi in c:\\users\\sruth\\anaconda3\\lib\\site-packages (from urllib3[secure,socks]~=1.26->selenium) (2021.10.8)\n",
      "Requirement already satisfied: PySocks!=1.5.7,<2.0,>=1.5.6 in c:\\users\\sruth\\anaconda3\\lib\\site-packages (from urllib3[secure,socks]~=1.26->selenium) (1.7.1)\n",
      "Requirement already satisfied: six>=1.5.2 in c:\\users\\sruth\\anaconda3\\lib\\site-packages (from pyOpenSSL>=0.14->urllib3[secure,socks]~=1.26->selenium) (1.16.0)\n",
      "Requirement already satisfied: h11<1,>=0.9.0 in c:\\users\\sruth\\anaconda3\\lib\\site-packages (from wsproto>=0.14->trio-websocket~=0.9->selenium) (0.13.0)\n",
      "Note: you may need to restart the kernel to use updated packages.\n"
     ]
    }
   ],
   "source": [
    "pip install selenium"
   ]
  },
  {
   "cell_type": "code",
   "execution_count": 2,
   "id": "91dc00fa",
   "metadata": {},
   "outputs": [],
   "source": [
    "import selenium\n",
    "import pandas as pd\n",
    "from selenium import webdriver\n",
    "import warnings\n",
    "warnings.filterwarnings(\"ignore\")\n",
    "import time"
   ]
  },
  {
   "cell_type": "code",
   "execution_count": 3,
   "id": "9d95492d",
   "metadata": {},
   "outputs": [],
   "source": [
    "driver = webdriver.Chrome(r\"C:\\Users\\sruth\\Downloads\\chromedriver_win32\\chromedriver.exe\")"
   ]
  },
  {
   "cell_type": "code",
   "execution_count": 4,
   "id": "b8f95174",
   "metadata": {},
   "outputs": [],
   "source": [
    "driver = webdriver.Chrome(\"chromedriver.exe\")\n",
    "time.sleep(2)"
   ]
  },
  {
   "cell_type": "code",
   "execution_count": 19,
   "id": "df8a7fa9",
   "metadata": {},
   "outputs": [],
   "source": [
    "driver.close()"
   ]
  },
  {
   "cell_type": "code",
   "execution_count": 5,
   "id": "ada5a33c",
   "metadata": {},
   "outputs": [],
   "source": [
    "driver.get(\"https://www.naukri.com/\")"
   ]
  },
  {
   "cell_type": "code",
   "execution_count": 6,
   "id": "a3b7e532",
   "metadata": {},
   "outputs": [],
   "source": [
    "search_field_designation=driver.find_element_by_class_name(\"suggestor-input\")\n",
    "search_field_designation.send_keys(\"Data Analyst\")\n",
    "search_field_location=driver.find_element_by_xpath(\"/html/body/div/div[2]/div[3]/div/div/div[3]/div/div/div/input\")\n",
    "search_field_location.send_keys(\"Bangalore\")"
   ]
  },
  {
   "cell_type": "code",
   "execution_count": 7,
   "id": "e35610c2",
   "metadata": {},
   "outputs": [],
   "source": [
    "search_button=driver.find_element_by_xpath(\"/html/body/div/div[2]/div[3]/div/div/div[6]\")\n",
    "search_button.click()"
   ]
  },
  {
   "cell_type": "code",
   "execution_count": 8,
   "id": "a62f593e",
   "metadata": {},
   "outputs": [],
   "source": [
    "url=\"https://www.naukri.com/data-analyst-jobs-in-bangalore?k=data%20analyst&l=bangalore\""
   ]
  },
  {
   "cell_type": "code",
   "execution_count": 9,
   "id": "c0b48c8d",
   "metadata": {},
   "outputs": [],
   "source": [
    "driver.get(url)"
   ]
  },
  {
   "cell_type": "code",
   "execution_count": 10,
   "id": "2a50fc55",
   "metadata": {},
   "outputs": [],
   "source": [
    "job_titles=[]\n",
    "company_names=[]\n",
    "location_list=[]\n",
    "experience_list=[]\n"
   ]
  },
  {
   "cell_type": "code",
   "execution_count": 11,
   "id": "0b7708b3",
   "metadata": {},
   "outputs": [
    {
     "data": {
      "text/plain": [
       "[<selenium.webdriver.remote.webelement.WebElement (session=\"472bcff20f01990c14e47e2ab2dc8373\", element=\"edad0f9e-0118-444c-b8f4-d9ef1716615c\")>,\n",
       " <selenium.webdriver.remote.webelement.WebElement (session=\"472bcff20f01990c14e47e2ab2dc8373\", element=\"226ae2e4-2dd2-4d5b-bc4a-a78b5ccff163\")>,\n",
       " <selenium.webdriver.remote.webelement.WebElement (session=\"472bcff20f01990c14e47e2ab2dc8373\", element=\"c43b8238-a623-40a9-aef7-f02a24891774\")>,\n",
       " <selenium.webdriver.remote.webelement.WebElement (session=\"472bcff20f01990c14e47e2ab2dc8373\", element=\"a80df5a0-baa6-4278-8826-d7d09adbc1ca\")>,\n",
       " <selenium.webdriver.remote.webelement.WebElement (session=\"472bcff20f01990c14e47e2ab2dc8373\", element=\"d04806a5-7342-4d0a-a5b2-2fe3b557e4fd\")>,\n",
       " <selenium.webdriver.remote.webelement.WebElement (session=\"472bcff20f01990c14e47e2ab2dc8373\", element=\"c6fd34f5-28af-4c3e-bc25-b61d11ca20dd\")>,\n",
       " <selenium.webdriver.remote.webelement.WebElement (session=\"472bcff20f01990c14e47e2ab2dc8373\", element=\"6fd6813d-b920-4f83-b445-3351453eeb52\")>,\n",
       " <selenium.webdriver.remote.webelement.WebElement (session=\"472bcff20f01990c14e47e2ab2dc8373\", element=\"0b952332-3777-4602-aab9-bfc87d9fa335\")>,\n",
       " <selenium.webdriver.remote.webelement.WebElement (session=\"472bcff20f01990c14e47e2ab2dc8373\", element=\"d6877ebf-eb4a-49a1-b3f2-935e111329f3\")>,\n",
       " <selenium.webdriver.remote.webelement.WebElement (session=\"472bcff20f01990c14e47e2ab2dc8373\", element=\"0c4836ca-ec8d-42f5-a3fa-07f11a1017ed\")>]"
      ]
     },
     "execution_count": 11,
     "metadata": {},
     "output_type": "execute_result"
    }
   ],
   "source": [
    "titles_tags=driver.find_elements_by_xpath(\"//a[@class='title fw500 ellipsis']\")\n",
    "titles_tags[0:10]"
   ]
  },
  {
   "cell_type": "code",
   "execution_count": 12,
   "id": "121c900f",
   "metadata": {},
   "outputs": [
    {
     "data": {
      "text/plain": [
       "['Senior Data Analyst II',\n",
       " 'Senior Data Analyst II',\n",
       " 'Data Analysts with Business Analysis',\n",
       " 'Data Analyst / Data Engineer',\n",
       " 'Senior Data Analyst',\n",
       " 'Sr Domain Expert -Data Analysts',\n",
       " 'Business Analyst/Data Analyst',\n",
       " 'Senior Data Analyst - KPO',\n",
       " 'Senior Data Analyst',\n",
       " 'Consultant - Data Analyst']"
      ]
     },
     "execution_count": 12,
     "metadata": {},
     "output_type": "execute_result"
    }
   ],
   "source": [
    "for i in titles_tags:\n",
    "    title=i.text\n",
    "    job_titles.append(title)\n",
    "job_titles[0:10]"
   ]
  },
  {
   "cell_type": "code",
   "execution_count": 13,
   "id": "b0351ac3",
   "metadata": {},
   "outputs": [
    {
     "data": {
      "text/plain": [
       "[<selenium.webdriver.remote.webelement.WebElement (session=\"472bcff20f01990c14e47e2ab2dc8373\", element=\"c6b557db-6593-414e-94d9-724070d9b733\")>,\n",
       " <selenium.webdriver.remote.webelement.WebElement (session=\"472bcff20f01990c14e47e2ab2dc8373\", element=\"edca884a-98ce-446b-ac79-88fb1f176f7a\")>,\n",
       " <selenium.webdriver.remote.webelement.WebElement (session=\"472bcff20f01990c14e47e2ab2dc8373\", element=\"de9171bd-7c74-463b-a2e7-a9438c5bc23e\")>,\n",
       " <selenium.webdriver.remote.webelement.WebElement (session=\"472bcff20f01990c14e47e2ab2dc8373\", element=\"1d0fcb1a-e3d7-415e-8355-c3e6e155bfea\")>,\n",
       " <selenium.webdriver.remote.webelement.WebElement (session=\"472bcff20f01990c14e47e2ab2dc8373\", element=\"5ee41861-1339-4c37-ac54-b3efb6696cad\")>,\n",
       " <selenium.webdriver.remote.webelement.WebElement (session=\"472bcff20f01990c14e47e2ab2dc8373\", element=\"22f8000f-e615-49b3-bf60-3d7df1784762\")>,\n",
       " <selenium.webdriver.remote.webelement.WebElement (session=\"472bcff20f01990c14e47e2ab2dc8373\", element=\"834b8f99-d670-44cf-874c-3ebeb344e651\")>,\n",
       " <selenium.webdriver.remote.webelement.WebElement (session=\"472bcff20f01990c14e47e2ab2dc8373\", element=\"6b700517-ea32-43d1-adf5-fae4d433b846\")>,\n",
       " <selenium.webdriver.remote.webelement.WebElement (session=\"472bcff20f01990c14e47e2ab2dc8373\", element=\"7c3659f9-27a8-4026-869f-c93a7848a045\")>,\n",
       " <selenium.webdriver.remote.webelement.WebElement (session=\"472bcff20f01990c14e47e2ab2dc8373\", element=\"238f58d1-0ab3-42fa-8c72-6da4283ffca5\")>]"
      ]
     },
     "execution_count": 13,
     "metadata": {},
     "output_type": "execute_result"
    }
   ],
   "source": [
    "company_tags=driver.find_elements_by_xpath(\"//a[@class='subTitle ellipsis fleft']\")\n",
    "company_tags[0:10]"
   ]
  },
  {
   "cell_type": "code",
   "execution_count": 14,
   "id": "1360b70b",
   "metadata": {},
   "outputs": [
    {
     "data": {
      "text/plain": [
       "['Flipkart',\n",
       " 'Flipkart',\n",
       " 'Avanze Technologies India Pvt. Ltd.',\n",
       " 'TALENT MAX HR & MANAGEMENT CONSULTANTS',\n",
       " 'Flipkart',\n",
       " 'Siemens',\n",
       " 'Telamon HR Solutions',\n",
       " 'Huquo Consulting Pvt. Ltd',\n",
       " 'Cerner',\n",
       " 'Flipkart']"
      ]
     },
     "execution_count": 14,
     "metadata": {},
     "output_type": "execute_result"
    }
   ],
   "source": [
    "for i in company_tags:\n",
    "    company=i.text\n",
    "    company_names.append(company)\n",
    "company_names[0:10]"
   ]
  },
  {
   "cell_type": "code",
   "execution_count": 15,
   "id": "2e0c2231",
   "metadata": {},
   "outputs": [
    {
     "data": {
      "text/plain": [
       "[<selenium.webdriver.remote.webelement.WebElement (session=\"472bcff20f01990c14e47e2ab2dc8373\", element=\"4090cfbc-6de8-4dfb-8bed-333645df4f4b\")>,\n",
       " <selenium.webdriver.remote.webelement.WebElement (session=\"472bcff20f01990c14e47e2ab2dc8373\", element=\"68bd345e-b166-42f5-8499-37ac72ceaca4\")>,\n",
       " <selenium.webdriver.remote.webelement.WebElement (session=\"472bcff20f01990c14e47e2ab2dc8373\", element=\"36194ef0-b7ca-4b60-a3f1-c9b7bc477652\")>,\n",
       " <selenium.webdriver.remote.webelement.WebElement (session=\"472bcff20f01990c14e47e2ab2dc8373\", element=\"5279b1a4-bb28-42d9-8df1-97ef9519503e\")>,\n",
       " <selenium.webdriver.remote.webelement.WebElement (session=\"472bcff20f01990c14e47e2ab2dc8373\", element=\"78de1120-8e25-4968-84b5-84ce462cbae9\")>,\n",
       " <selenium.webdriver.remote.webelement.WebElement (session=\"472bcff20f01990c14e47e2ab2dc8373\", element=\"ccd5111f-83fd-4d87-838f-bc2a5f15e293\")>,\n",
       " <selenium.webdriver.remote.webelement.WebElement (session=\"472bcff20f01990c14e47e2ab2dc8373\", element=\"27e8f6ef-a366-49bb-85b8-00e85395ed3e\")>,\n",
       " <selenium.webdriver.remote.webelement.WebElement (session=\"472bcff20f01990c14e47e2ab2dc8373\", element=\"038a350f-6e91-4e8f-8f28-98992fd5265b\")>,\n",
       " <selenium.webdriver.remote.webelement.WebElement (session=\"472bcff20f01990c14e47e2ab2dc8373\", element=\"e4ee8fb6-6c5b-48ee-a461-d9749843b0f1\")>,\n",
       " <selenium.webdriver.remote.webelement.WebElement (session=\"472bcff20f01990c14e47e2ab2dc8373\", element=\"afda7360-6cd9-4f87-9344-7886ba7a1439\")>]"
      ]
     },
     "execution_count": 15,
     "metadata": {},
     "output_type": "execute_result"
    }
   ],
   "source": [
    "experience_tags=driver.find_elements_by_xpath(\"//li[@class='fleft grey-text br2 placeHolderLi experience']\")\n",
    "experience_tags[0:10]"
   ]
  },
  {
   "cell_type": "code",
   "execution_count": 16,
   "id": "c083e362",
   "metadata": {},
   "outputs": [
    {
     "data": {
      "text/plain": [
       "['2-4 Yrs',\n",
       " '3-6 Yrs',\n",
       " '6-8 Yrs',\n",
       " '8-13 Yrs',\n",
       " '4-6 Yrs',\n",
       " '0-10 Yrs',\n",
       " '3-5 Yrs',\n",
       " '7-12 Yrs',\n",
       " '8-12 Yrs',\n",
       " '1-3 Yrs']"
      ]
     },
     "execution_count": 16,
     "metadata": {},
     "output_type": "execute_result"
    }
   ],
   "source": [
    "for i in experience_tags:\n",
    "    experience=i.text\n",
    "    experience_list.append(experience)\n",
    "experience_list[0:10]"
   ]
  },
  {
   "cell_type": "code",
   "execution_count": 17,
   "id": "15b9db16",
   "metadata": {},
   "outputs": [
    {
     "data": {
      "text/plain": [
       "[<selenium.webdriver.remote.webelement.WebElement (session=\"472bcff20f01990c14e47e2ab2dc8373\", element=\"832e7527-2efe-4d03-b005-397528e0d119\")>,\n",
       " <selenium.webdriver.remote.webelement.WebElement (session=\"472bcff20f01990c14e47e2ab2dc8373\", element=\"f6482b80-7ed8-4d3a-bd0e-60653f5baf76\")>,\n",
       " <selenium.webdriver.remote.webelement.WebElement (session=\"472bcff20f01990c14e47e2ab2dc8373\", element=\"2170bfb0-f269-4fbf-8a3c-433ba961992f\")>,\n",
       " <selenium.webdriver.remote.webelement.WebElement (session=\"472bcff20f01990c14e47e2ab2dc8373\", element=\"b5d3f891-8399-4827-8c73-2d6d7fd0c635\")>,\n",
       " <selenium.webdriver.remote.webelement.WebElement (session=\"472bcff20f01990c14e47e2ab2dc8373\", element=\"f2c12742-8917-4e1e-ac90-5d7926f2b9d7\")>,\n",
       " <selenium.webdriver.remote.webelement.WebElement (session=\"472bcff20f01990c14e47e2ab2dc8373\", element=\"9f1a1506-f02b-49bf-8c16-174506f630ac\")>,\n",
       " <selenium.webdriver.remote.webelement.WebElement (session=\"472bcff20f01990c14e47e2ab2dc8373\", element=\"93e4b3a6-6140-4fda-919b-df8b8bd6bb3f\")>,\n",
       " <selenium.webdriver.remote.webelement.WebElement (session=\"472bcff20f01990c14e47e2ab2dc8373\", element=\"ab4eed45-5501-4bac-a6b6-35884e96d517\")>,\n",
       " <selenium.webdriver.remote.webelement.WebElement (session=\"472bcff20f01990c14e47e2ab2dc8373\", element=\"c7ed8cdb-a5a6-43c9-ad91-7ad6dbce9a06\")>,\n",
       " <selenium.webdriver.remote.webelement.WebElement (session=\"472bcff20f01990c14e47e2ab2dc8373\", element=\"fcaf75c6-bef1-4f2e-9d8c-a50851454111\")>]"
      ]
     },
     "execution_count": 17,
     "metadata": {},
     "output_type": "execute_result"
    }
   ],
   "source": [
    "location_tags=driver.find_elements_by_xpath(\"//li[@class='fleft grey-text br2 placeHolderLi location']\")\n",
    "location_tags[0:10]"
   ]
  },
  {
   "cell_type": "code",
   "execution_count": 18,
   "id": "722b034f",
   "metadata": {},
   "outputs": [
    {
     "data": {
      "text/plain": [
       "['Bangalore/Bengaluru',\n",
       " 'Bangalore/Bengaluru',\n",
       " 'Bangalore/Bengaluru',\n",
       " 'Indore, Pune, Bangalore/Bengaluru',\n",
       " 'Bangalore/Bengaluru',\n",
       " 'Bangalore/Bengaluru',\n",
       " 'Hyderabad/Secunderabad, Bangalore/Bengaluru, Delhi / NCR',\n",
       " 'Gurgaon/Gurugram, Bangalore/Bengaluru',\n",
       " 'Bangalore/Bengaluru',\n",
       " 'Bangalore/Bengaluru']"
      ]
     },
     "execution_count": 18,
     "metadata": {},
     "output_type": "execute_result"
    }
   ],
   "source": [
    "for i in location_tags:\n",
    "    location=i.text\n",
    "    location_list.append(location)\n",
    "location_list[0:10]"
   ]
  },
  {
   "cell_type": "code",
   "execution_count": 19,
   "id": "5ceb4ede",
   "metadata": {},
   "outputs": [
    {
     "name": "stdout",
     "output_type": "stream",
     "text": [
      "20 20 20 20\n"
     ]
    }
   ],
   "source": [
    "print(len(job_titles),len(company_names),len(experience_list),len(location_list))"
   ]
  },
  {
   "cell_type": "code",
   "execution_count": 20,
   "id": "c3c84545",
   "metadata": {},
   "outputs": [],
   "source": [
    "jobs=pd.DataFrame({})\n",
    "jobs[\"title\"]=job_titles\n",
    "jobs[\"company\"]=company_names\n",
    "jobs[\"experience\"]=experience_list\n",
    "jobs[\"location\"]=location_list"
   ]
  },
  {
   "cell_type": "code",
   "execution_count": 21,
   "id": "ddfdf128",
   "metadata": {},
   "outputs": [
    {
     "data": {
      "text/html": [
       "<div>\n",
       "<style scoped>\n",
       "    .dataframe tbody tr th:only-of-type {\n",
       "        vertical-align: middle;\n",
       "    }\n",
       "\n",
       "    .dataframe tbody tr th {\n",
       "        vertical-align: top;\n",
       "    }\n",
       "\n",
       "    .dataframe thead th {\n",
       "        text-align: right;\n",
       "    }\n",
       "</style>\n",
       "<table border=\"1\" class=\"dataframe\">\n",
       "  <thead>\n",
       "    <tr style=\"text-align: right;\">\n",
       "      <th></th>\n",
       "      <th>title</th>\n",
       "      <th>company</th>\n",
       "      <th>experience</th>\n",
       "      <th>location</th>\n",
       "    </tr>\n",
       "  </thead>\n",
       "  <tbody>\n",
       "    <tr>\n",
       "      <th>0</th>\n",
       "      <td>Senior Data Analyst II</td>\n",
       "      <td>Flipkart</td>\n",
       "      <td>2-4 Yrs</td>\n",
       "      <td>Bangalore/Bengaluru</td>\n",
       "    </tr>\n",
       "    <tr>\n",
       "      <th>1</th>\n",
       "      <td>Senior Data Analyst II</td>\n",
       "      <td>Flipkart</td>\n",
       "      <td>3-6 Yrs</td>\n",
       "      <td>Bangalore/Bengaluru</td>\n",
       "    </tr>\n",
       "    <tr>\n",
       "      <th>2</th>\n",
       "      <td>Data Analysts with Business Analysis</td>\n",
       "      <td>Avanze Technologies India Pvt. Ltd.</td>\n",
       "      <td>6-8 Yrs</td>\n",
       "      <td>Bangalore/Bengaluru</td>\n",
       "    </tr>\n",
       "    <tr>\n",
       "      <th>3</th>\n",
       "      <td>Data Analyst / Data Engineer</td>\n",
       "      <td>TALENT MAX HR &amp; MANAGEMENT CONSULTANTS</td>\n",
       "      <td>8-13 Yrs</td>\n",
       "      <td>Indore, Pune, Bangalore/Bengaluru</td>\n",
       "    </tr>\n",
       "    <tr>\n",
       "      <th>4</th>\n",
       "      <td>Senior Data Analyst</td>\n",
       "      <td>Flipkart</td>\n",
       "      <td>4-6 Yrs</td>\n",
       "      <td>Bangalore/Bengaluru</td>\n",
       "    </tr>\n",
       "    <tr>\n",
       "      <th>5</th>\n",
       "      <td>Sr Domain Expert -Data Analysts</td>\n",
       "      <td>Siemens</td>\n",
       "      <td>0-10 Yrs</td>\n",
       "      <td>Bangalore/Bengaluru</td>\n",
       "    </tr>\n",
       "    <tr>\n",
       "      <th>6</th>\n",
       "      <td>Business Analyst/Data Analyst</td>\n",
       "      <td>Telamon HR Solutions</td>\n",
       "      <td>3-5 Yrs</td>\n",
       "      <td>Hyderabad/Secunderabad, Bangalore/Bengaluru, D...</td>\n",
       "    </tr>\n",
       "    <tr>\n",
       "      <th>7</th>\n",
       "      <td>Senior Data Analyst - KPO</td>\n",
       "      <td>Huquo Consulting Pvt. Ltd</td>\n",
       "      <td>7-12 Yrs</td>\n",
       "      <td>Gurgaon/Gurugram, Bangalore/Bengaluru</td>\n",
       "    </tr>\n",
       "    <tr>\n",
       "      <th>8</th>\n",
       "      <td>Senior Data Analyst</td>\n",
       "      <td>Cerner</td>\n",
       "      <td>8-12 Yrs</td>\n",
       "      <td>Bangalore/Bengaluru</td>\n",
       "    </tr>\n",
       "    <tr>\n",
       "      <th>9</th>\n",
       "      <td>Consultant - Data Analyst</td>\n",
       "      <td>Flipkart</td>\n",
       "      <td>1-3 Yrs</td>\n",
       "      <td>Bangalore/Bengaluru</td>\n",
       "    </tr>\n",
       "    <tr>\n",
       "      <th>10</th>\n",
       "      <td>Data Analyst</td>\n",
       "      <td>Enrich talents</td>\n",
       "      <td>0-4 Yrs</td>\n",
       "      <td>Bangalore/Bengaluru</td>\n",
       "    </tr>\n",
       "    <tr>\n",
       "      <th>11</th>\n",
       "      <td>Blockchain AML Data Analyst</td>\n",
       "      <td>PayPal</td>\n",
       "      <td>3-7 Yrs</td>\n",
       "      <td>Bangalore/Bengaluru</td>\n",
       "    </tr>\n",
       "    <tr>\n",
       "      <th>12</th>\n",
       "      <td>Senior Data Analyst</td>\n",
       "      <td>Walmart</td>\n",
       "      <td>5-8 Yrs</td>\n",
       "      <td>Bangalore/Bengaluru</td>\n",
       "    </tr>\n",
       "    <tr>\n",
       "      <th>13</th>\n",
       "      <td>Senior Data Analyst</td>\n",
       "      <td>LatentView</td>\n",
       "      <td>2-6 Yrs</td>\n",
       "      <td>Chennai, Bangalore/Bengaluru</td>\n",
       "    </tr>\n",
       "    <tr>\n",
       "      <th>14</th>\n",
       "      <td>Data Analyst - Python/SQL</td>\n",
       "      <td>Affine</td>\n",
       "      <td>3-5 Yrs</td>\n",
       "      <td>Bangalore/Bengaluru</td>\n",
       "    </tr>\n",
       "    <tr>\n",
       "      <th>15</th>\n",
       "      <td>Data Analyst</td>\n",
       "      <td>AECOM</td>\n",
       "      <td>2-7 Yrs</td>\n",
       "      <td>Bangalore/Bengaluru</td>\n",
       "    </tr>\n",
       "    <tr>\n",
       "      <th>16</th>\n",
       "      <td>Data Analyst - IT</td>\n",
       "      <td>Yespired</td>\n",
       "      <td>3-8 Yrs</td>\n",
       "      <td>Bangalore/Bengaluru</td>\n",
       "    </tr>\n",
       "    <tr>\n",
       "      <th>17</th>\n",
       "      <td>Business Analyst - Data Science &amp; Analytics, Omni</td>\n",
       "      <td>MORE RETAIL PRIVATE LIMITED</td>\n",
       "      <td>1-5 Yrs</td>\n",
       "      <td>Bangalore/Bengaluru</td>\n",
       "    </tr>\n",
       "    <tr>\n",
       "      <th>18</th>\n",
       "      <td>Senior Data Analyst (Digital Services Analytics)</td>\n",
       "      <td>Dell Technologies</td>\n",
       "      <td>1-6 Yrs</td>\n",
       "      <td>Bangalore/Bengaluru</td>\n",
       "    </tr>\n",
       "    <tr>\n",
       "      <th>19</th>\n",
       "      <td>Senior Data Analyst</td>\n",
       "      <td>FINNOVATION TECH SOLUTIONS PRIVATE LIMITED</td>\n",
       "      <td>3-6 Yrs</td>\n",
       "      <td>Bangalore/Bengaluru(Old Madras Road)</td>\n",
       "    </tr>\n",
       "  </tbody>\n",
       "</table>\n",
       "</div>"
      ],
      "text/plain": [
       "                                                title  \\\n",
       "0                              Senior Data Analyst II   \n",
       "1                              Senior Data Analyst II   \n",
       "2                Data Analysts with Business Analysis   \n",
       "3                        Data Analyst / Data Engineer   \n",
       "4                                 Senior Data Analyst   \n",
       "5                     Sr Domain Expert -Data Analysts   \n",
       "6                       Business Analyst/Data Analyst   \n",
       "7                           Senior Data Analyst - KPO   \n",
       "8                                 Senior Data Analyst   \n",
       "9                           Consultant - Data Analyst   \n",
       "10                                       Data Analyst   \n",
       "11                        Blockchain AML Data Analyst   \n",
       "12                                Senior Data Analyst   \n",
       "13                                Senior Data Analyst   \n",
       "14                          Data Analyst - Python/SQL   \n",
       "15                                       Data Analyst   \n",
       "16                                  Data Analyst - IT   \n",
       "17  Business Analyst - Data Science & Analytics, Omni   \n",
       "18   Senior Data Analyst (Digital Services Analytics)   \n",
       "19                                Senior Data Analyst   \n",
       "\n",
       "                                       company experience  \\\n",
       "0                                     Flipkart    2-4 Yrs   \n",
       "1                                     Flipkart    3-6 Yrs   \n",
       "2          Avanze Technologies India Pvt. Ltd.    6-8 Yrs   \n",
       "3       TALENT MAX HR & MANAGEMENT CONSULTANTS   8-13 Yrs   \n",
       "4                                     Flipkart    4-6 Yrs   \n",
       "5                                      Siemens   0-10 Yrs   \n",
       "6                         Telamon HR Solutions    3-5 Yrs   \n",
       "7                    Huquo Consulting Pvt. Ltd   7-12 Yrs   \n",
       "8                                       Cerner   8-12 Yrs   \n",
       "9                                     Flipkart    1-3 Yrs   \n",
       "10                              Enrich talents    0-4 Yrs   \n",
       "11                                      PayPal    3-7 Yrs   \n",
       "12                                     Walmart    5-8 Yrs   \n",
       "13                                  LatentView    2-6 Yrs   \n",
       "14                                      Affine    3-5 Yrs   \n",
       "15                                       AECOM    2-7 Yrs   \n",
       "16                                    Yespired    3-8 Yrs   \n",
       "17                 MORE RETAIL PRIVATE LIMITED    1-5 Yrs   \n",
       "18                           Dell Technologies    1-6 Yrs   \n",
       "19  FINNOVATION TECH SOLUTIONS PRIVATE LIMITED    3-6 Yrs   \n",
       "\n",
       "                                             location  \n",
       "0                                 Bangalore/Bengaluru  \n",
       "1                                 Bangalore/Bengaluru  \n",
       "2                                 Bangalore/Bengaluru  \n",
       "3                   Indore, Pune, Bangalore/Bengaluru  \n",
       "4                                 Bangalore/Bengaluru  \n",
       "5                                 Bangalore/Bengaluru  \n",
       "6   Hyderabad/Secunderabad, Bangalore/Bengaluru, D...  \n",
       "7               Gurgaon/Gurugram, Bangalore/Bengaluru  \n",
       "8                                 Bangalore/Bengaluru  \n",
       "9                                 Bangalore/Bengaluru  \n",
       "10                                Bangalore/Bengaluru  \n",
       "11                                Bangalore/Bengaluru  \n",
       "12                                Bangalore/Bengaluru  \n",
       "13                       Chennai, Bangalore/Bengaluru  \n",
       "14                                Bangalore/Bengaluru  \n",
       "15                                Bangalore/Bengaluru  \n",
       "16                                Bangalore/Bengaluru  \n",
       "17                                Bangalore/Bengaluru  \n",
       "18                                Bangalore/Bengaluru  \n",
       "19               Bangalore/Bengaluru(Old Madras Road)  "
      ]
     },
     "execution_count": 21,
     "metadata": {},
     "output_type": "execute_result"
    }
   ],
   "source": [
    "jobs"
   ]
  },
  {
   "cell_type": "code",
   "execution_count": 27,
   "id": "0e0c0df2",
   "metadata": {},
   "outputs": [],
   "source": [
    "import selenium\n",
    "import pandas as pd\n",
    "from selenium import webdriver\n",
    "import warnings\n",
    "warnings.filterwarnings(\"ignore\")\n",
    "import time"
   ]
  },
  {
   "cell_type": "code",
   "execution_count": 28,
   "id": "bdca91f4",
   "metadata": {},
   "outputs": [],
   "source": [
    "driver = webdriver.Chrome(r\"C:\\Users\\sruth\\Downloads\\chromedriver_win32\\chromedriver.exe\")"
   ]
  },
  {
   "cell_type": "code",
   "execution_count": 29,
   "id": "aef54b82",
   "metadata": {},
   "outputs": [],
   "source": [
    "driver = webdriver.Chrome(\"chromedriver.exe\")\n",
    "time.sleep(2)"
   ]
  },
  {
   "cell_type": "code",
   "execution_count": 30,
   "id": "165b98ff",
   "metadata": {},
   "outputs": [],
   "source": [
    "driver.get(\"https://www.naukri.com/\")"
   ]
  },
  {
   "cell_type": "code",
   "execution_count": 31,
   "id": "a1fd1ada",
   "metadata": {},
   "outputs": [],
   "source": [
    "search_field_designation=driver.find_element_by_class_name(\"suggestor-input \")\n",
    "search_field_designation.send_keys(\"Data Scientist\")\n",
    "search_field_location=driver.find_element_by_xpath(\"/html/body/div/div[2]/div[3]/div/div/div[3]/div/div/div/input\")\n",
    "search_field_location.send_keys(\"Bangalore\")"
   ]
  },
  {
   "cell_type": "code",
   "execution_count": 32,
   "id": "2218d691",
   "metadata": {},
   "outputs": [],
   "source": [
    "search_button=driver.find_element_by_xpath(\"/html/body/div/div[2]/div[3]/div/div/div[6]\")\n",
    "search_button.click()"
   ]
  },
  {
   "cell_type": "code",
   "execution_count": 33,
   "id": "f7492d37",
   "metadata": {},
   "outputs": [],
   "source": [
    "url=\"https://www.naukri.com/data-scientist-jobs-in-bangalore?k=data%20scientist&l=bangalore\""
   ]
  },
  {
   "cell_type": "code",
   "execution_count": 34,
   "id": "8b0b532d",
   "metadata": {},
   "outputs": [],
   "source": [
    "driver.get(url)"
   ]
  },
  {
   "cell_type": "code",
   "execution_count": 35,
   "id": "e6282f57",
   "metadata": {},
   "outputs": [],
   "source": [
    "job_titles=[]\n",
    "company_names=[]\n",
    "job_location=[]"
   ]
  },
  {
   "cell_type": "code",
   "execution_count": 36,
   "id": "206fa1ca",
   "metadata": {},
   "outputs": [
    {
     "data": {
      "text/plain": [
       "['ASSOCIATE DATA SCIENTIST',\n",
       " 'Data Scientist: Advanced Analytics',\n",
       " 'Data Scientist',\n",
       " 'Data Scientist',\n",
       " 'Data Scientist: Artificial Intelligence',\n",
       " 'Data Scientist',\n",
       " 'Data Scientist/Engineer - Global Telecom Setup',\n",
       " 'Analyst- Data Scientist',\n",
       " 'Data Scientist - Immediate Joiners',\n",
       " 'Senior Data Scientist/Data Scientist - Research/Analytics/Consulting']"
      ]
     },
     "execution_count": 36,
     "metadata": {},
     "output_type": "execute_result"
    }
   ],
   "source": [
    "titles_tags=driver.find_elements_by_xpath(\"//a[@class='title fw500 ellipsis']\")\n",
    "titles_tags[0:10]\n",
    "for i in titles_tags:\n",
    "    title=i.text\n",
    "    job_titles.append(title)\n",
    "job_titles[0:10]"
   ]
  },
  {
   "cell_type": "code",
   "execution_count": 37,
   "id": "8f360f55",
   "metadata": {},
   "outputs": [
    {
     "data": {
      "text/plain": [
       "['Hinduja Global',\n",
       " 'IBM',\n",
       " 'Applied Materials',\n",
       " 'Applied Materials',\n",
       " 'IBM',\n",
       " 'Applied Materials',\n",
       " 'Global Telecom Setup',\n",
       " 'Sigma Aldrich',\n",
       " 'Bristlecone',\n",
       " 'Hexaconcepts']"
      ]
     },
     "execution_count": 37,
     "metadata": {},
     "output_type": "execute_result"
    }
   ],
   "source": [
    "company_tags=driver.find_elements_by_xpath(\"//a[@class='subTitle ellipsis fleft']\")\n",
    "company_tags[0:10]\n",
    "for i in company_tags:\n",
    "    company=i.text\n",
    "    company_names.append(company)\n",
    "company_names[0:10]"
   ]
  },
  {
   "cell_type": "code",
   "execution_count": 39,
   "id": "0548d791",
   "metadata": {},
   "outputs": [
    {
     "data": {
      "text/plain": [
       "['Bangalore/Bengaluru',\n",
       " 'Bangalore/Bengaluru',\n",
       " 'Bangalore/Bengaluru',\n",
       " 'Bangalore/Bengaluru',\n",
       " 'Bangalore/Bengaluru',\n",
       " 'Bangalore/Bengaluru',\n",
       " 'Hyderabad/Secunderabad, Pune, Bangalore/Bengaluru',\n",
       " 'Bangalore/Bengaluru',\n",
       " 'Noida, Mumbai, Pune, Bangalore/Bengaluru',\n",
       " 'Bangalore/Bengaluru']"
      ]
     },
     "execution_count": 39,
     "metadata": {},
     "output_type": "execute_result"
    }
   ],
   "source": [
    "location_tags=driver.find_elements_by_xpath(\"//li[@class='fleft grey-text br2 placeHolderLi location']\")\n",
    "location_tags[0:10]\n",
    "for i in location_tags:\n",
    "    location=i.text\n",
    "    job_location.append(location)\n",
    "job_location[0:10]"
   ]
  },
  {
   "cell_type": "code",
   "execution_count": 40,
   "id": "a19ad698",
   "metadata": {},
   "outputs": [
    {
     "name": "stdout",
     "output_type": "stream",
     "text": [
      "20 20 20\n"
     ]
    }
   ],
   "source": [
    "print(len(job_titles),len(company_names),len(job_location))"
   ]
  },
  {
   "cell_type": "code",
   "execution_count": 41,
   "id": "eef12209",
   "metadata": {},
   "outputs": [],
   "source": [
    "jobs=pd.DataFrame({})\n",
    "jobs[\"title\"]=job_titles\n",
    "jobs[\"company\"]=company_names\n",
    "jobs[\"location\"]=job_location"
   ]
  },
  {
   "cell_type": "code",
   "execution_count": 42,
   "id": "07b9556e",
   "metadata": {},
   "outputs": [
    {
     "data": {
      "text/html": [
       "<div>\n",
       "<style scoped>\n",
       "    .dataframe tbody tr th:only-of-type {\n",
       "        vertical-align: middle;\n",
       "    }\n",
       "\n",
       "    .dataframe tbody tr th {\n",
       "        vertical-align: top;\n",
       "    }\n",
       "\n",
       "    .dataframe thead th {\n",
       "        text-align: right;\n",
       "    }\n",
       "</style>\n",
       "<table border=\"1\" class=\"dataframe\">\n",
       "  <thead>\n",
       "    <tr style=\"text-align: right;\">\n",
       "      <th></th>\n",
       "      <th>title</th>\n",
       "      <th>company</th>\n",
       "      <th>location</th>\n",
       "    </tr>\n",
       "  </thead>\n",
       "  <tbody>\n",
       "    <tr>\n",
       "      <th>0</th>\n",
       "      <td>ASSOCIATE DATA SCIENTIST</td>\n",
       "      <td>Hinduja Global</td>\n",
       "      <td>Bangalore/Bengaluru</td>\n",
       "    </tr>\n",
       "    <tr>\n",
       "      <th>1</th>\n",
       "      <td>Data Scientist: Advanced Analytics</td>\n",
       "      <td>IBM</td>\n",
       "      <td>Bangalore/Bengaluru</td>\n",
       "    </tr>\n",
       "    <tr>\n",
       "      <th>2</th>\n",
       "      <td>Data Scientist</td>\n",
       "      <td>Applied Materials</td>\n",
       "      <td>Bangalore/Bengaluru</td>\n",
       "    </tr>\n",
       "    <tr>\n",
       "      <th>3</th>\n",
       "      <td>Data Scientist</td>\n",
       "      <td>Applied Materials</td>\n",
       "      <td>Bangalore/Bengaluru</td>\n",
       "    </tr>\n",
       "    <tr>\n",
       "      <th>4</th>\n",
       "      <td>Data Scientist: Artificial Intelligence</td>\n",
       "      <td>IBM</td>\n",
       "      <td>Bangalore/Bengaluru</td>\n",
       "    </tr>\n",
       "    <tr>\n",
       "      <th>5</th>\n",
       "      <td>Data Scientist</td>\n",
       "      <td>Applied Materials</td>\n",
       "      <td>Bangalore/Bengaluru</td>\n",
       "    </tr>\n",
       "    <tr>\n",
       "      <th>6</th>\n",
       "      <td>Data Scientist/Engineer - Global Telecom Setup</td>\n",
       "      <td>Global Telecom Setup</td>\n",
       "      <td>Hyderabad/Secunderabad, Pune, Bangalore/Bengaluru</td>\n",
       "    </tr>\n",
       "    <tr>\n",
       "      <th>7</th>\n",
       "      <td>Analyst- Data Scientist</td>\n",
       "      <td>Sigma Aldrich</td>\n",
       "      <td>Bangalore/Bengaluru</td>\n",
       "    </tr>\n",
       "    <tr>\n",
       "      <th>8</th>\n",
       "      <td>Data Scientist - Immediate Joiners</td>\n",
       "      <td>Bristlecone</td>\n",
       "      <td>Noida, Mumbai, Pune, Bangalore/Bengaluru</td>\n",
       "    </tr>\n",
       "    <tr>\n",
       "      <th>9</th>\n",
       "      <td>Senior Data Scientist/Data Scientist - Researc...</td>\n",
       "      <td>Hexaconcepts</td>\n",
       "      <td>Bangalore/Bengaluru</td>\n",
       "    </tr>\n",
       "    <tr>\n",
       "      <th>10</th>\n",
       "      <td>Data Scientist</td>\n",
       "      <td>GSK India</td>\n",
       "      <td>Bangalore/Bengaluru</td>\n",
       "    </tr>\n",
       "    <tr>\n",
       "      <th>11</th>\n",
       "      <td>Immediate requirement of Data Scientist ( Bang...</td>\n",
       "      <td>Firstsource Solutions Limited</td>\n",
       "      <td>Bangalore/Bengaluru</td>\n",
       "    </tr>\n",
       "    <tr>\n",
       "      <th>12</th>\n",
       "      <td>Senior Data Scientist</td>\n",
       "      <td>GSK India</td>\n",
       "      <td>Bangalore/Bengaluru</td>\n",
       "    </tr>\n",
       "    <tr>\n",
       "      <th>13</th>\n",
       "      <td>Data Scientist: Artificial Intelligence</td>\n",
       "      <td>IBM</td>\n",
       "      <td>Bangalore/Bengaluru</td>\n",
       "    </tr>\n",
       "    <tr>\n",
       "      <th>14</th>\n",
       "      <td>Data Scientist: Artificial Intelligence</td>\n",
       "      <td>IBM</td>\n",
       "      <td>Bangalore/Bengaluru</td>\n",
       "    </tr>\n",
       "    <tr>\n",
       "      <th>15</th>\n",
       "      <td>Data Scientist: Artificial Intelligence</td>\n",
       "      <td>IBM</td>\n",
       "      <td>Bangalore/Bengaluru</td>\n",
       "    </tr>\n",
       "    <tr>\n",
       "      <th>16</th>\n",
       "      <td>Data Scientist: Artificial Intelligence</td>\n",
       "      <td>IBM</td>\n",
       "      <td>Bangalore/Bengaluru</td>\n",
       "    </tr>\n",
       "    <tr>\n",
       "      <th>17</th>\n",
       "      <td>Data Scientist: Artificial Intelligence</td>\n",
       "      <td>IBM</td>\n",
       "      <td>Bangalore/Bengaluru</td>\n",
       "    </tr>\n",
       "    <tr>\n",
       "      <th>18</th>\n",
       "      <td>Data Scientist: Artificial Intelligence</td>\n",
       "      <td>IBM</td>\n",
       "      <td>Bangalore/Bengaluru</td>\n",
       "    </tr>\n",
       "    <tr>\n",
       "      <th>19</th>\n",
       "      <td>Data Scientist</td>\n",
       "      <td>Applied Materials</td>\n",
       "      <td>Bangalore/Bengaluru</td>\n",
       "    </tr>\n",
       "  </tbody>\n",
       "</table>\n",
       "</div>"
      ],
      "text/plain": [
       "                                                title  \\\n",
       "0                            ASSOCIATE DATA SCIENTIST   \n",
       "1                  Data Scientist: Advanced Analytics   \n",
       "2                                      Data Scientist   \n",
       "3                                      Data Scientist   \n",
       "4             Data Scientist: Artificial Intelligence   \n",
       "5                                      Data Scientist   \n",
       "6      Data Scientist/Engineer - Global Telecom Setup   \n",
       "7                             Analyst- Data Scientist   \n",
       "8                  Data Scientist - Immediate Joiners   \n",
       "9   Senior Data Scientist/Data Scientist - Researc...   \n",
       "10                                     Data Scientist   \n",
       "11  Immediate requirement of Data Scientist ( Bang...   \n",
       "12                              Senior Data Scientist   \n",
       "13            Data Scientist: Artificial Intelligence   \n",
       "14            Data Scientist: Artificial Intelligence   \n",
       "15            Data Scientist: Artificial Intelligence   \n",
       "16            Data Scientist: Artificial Intelligence   \n",
       "17            Data Scientist: Artificial Intelligence   \n",
       "18            Data Scientist: Artificial Intelligence   \n",
       "19                                     Data Scientist   \n",
       "\n",
       "                          company  \\\n",
       "0                  Hinduja Global   \n",
       "1                             IBM   \n",
       "2               Applied Materials   \n",
       "3               Applied Materials   \n",
       "4                             IBM   \n",
       "5               Applied Materials   \n",
       "6            Global Telecom Setup   \n",
       "7                   Sigma Aldrich   \n",
       "8                     Bristlecone   \n",
       "9                    Hexaconcepts   \n",
       "10                      GSK India   \n",
       "11  Firstsource Solutions Limited   \n",
       "12                      GSK India   \n",
       "13                            IBM   \n",
       "14                            IBM   \n",
       "15                            IBM   \n",
       "16                            IBM   \n",
       "17                            IBM   \n",
       "18                            IBM   \n",
       "19              Applied Materials   \n",
       "\n",
       "                                             location  \n",
       "0                                 Bangalore/Bengaluru  \n",
       "1                                 Bangalore/Bengaluru  \n",
       "2                                 Bangalore/Bengaluru  \n",
       "3                                 Bangalore/Bengaluru  \n",
       "4                                 Bangalore/Bengaluru  \n",
       "5                                 Bangalore/Bengaluru  \n",
       "6   Hyderabad/Secunderabad, Pune, Bangalore/Bengaluru  \n",
       "7                                 Bangalore/Bengaluru  \n",
       "8            Noida, Mumbai, Pune, Bangalore/Bengaluru  \n",
       "9                                 Bangalore/Bengaluru  \n",
       "10                                Bangalore/Bengaluru  \n",
       "11                                Bangalore/Bengaluru  \n",
       "12                                Bangalore/Bengaluru  \n",
       "13                                Bangalore/Bengaluru  \n",
       "14                                Bangalore/Bengaluru  \n",
       "15                                Bangalore/Bengaluru  \n",
       "16                                Bangalore/Bengaluru  \n",
       "17                                Bangalore/Bengaluru  \n",
       "18                                Bangalore/Bengaluru  \n",
       "19                                Bangalore/Bengaluru  "
      ]
     },
     "execution_count": 42,
     "metadata": {},
     "output_type": "execute_result"
    }
   ],
   "source": [
    "jobs"
   ]
  },
  {
   "cell_type": "code",
   "execution_count": 136,
   "id": "edfeecb1",
   "metadata": {},
   "outputs": [],
   "source": [
    "import selenium\n",
    "import pandas as pd\n",
    "from selenium import webdriver\n",
    "import warnings\n",
    "warnings.filterwarnings(\"ignore\")\n",
    "import time"
   ]
  },
  {
   "cell_type": "code",
   "execution_count": 137,
   "id": "96801f0a",
   "metadata": {},
   "outputs": [],
   "source": [
    "driver = webdriver.Chrome(r\"C:\\Users\\sruth\\Downloads\\chromedriver_win32\\chromedriver.exe\")"
   ]
  },
  {
   "cell_type": "code",
   "execution_count": 138,
   "id": "e3073b85",
   "metadata": {},
   "outputs": [],
   "source": [
    "driver = webdriver.Chrome(\"chromedriver.exe\")\n",
    "time.sleep(2)"
   ]
  },
  {
   "cell_type": "code",
   "execution_count": 139,
   "id": "0589d237",
   "metadata": {},
   "outputs": [],
   "source": [
    "driver.get(\"https://www.naukri.com/\")"
   ]
  },
  {
   "cell_type": "code",
   "execution_count": 140,
   "id": "a76983f1",
   "metadata": {},
   "outputs": [],
   "source": [
    "search_field_designation=driver.find_element_by_class_name(\"suggestor-input \")\n",
    "search_field_designation.send_keys(\"Data Scientist\")\n",
    "search_field_location=driver.find_element_by_xpath(\"/html/body/div/div[2]/div[3]/div/div/div[3]/div/div/div/input\")\n",
    "search_field_location.send_keys(\"Delhi/NCR\")"
   ]
  },
  {
   "cell_type": "code",
   "execution_count": 141,
   "id": "cfed3cd4",
   "metadata": {},
   "outputs": [],
   "source": [
    "search_button=driver.find_element_by_xpath(\"/html/body/div/div[2]/div[3]/div/div/div[6]\")\n",
    "search_button.click()"
   ]
  },
  {
   "cell_type": "code",
   "execution_count": 142,
   "id": "82f4a66a",
   "metadata": {},
   "outputs": [],
   "source": [
    "search_checkbox=driver.find_element_by_xpath(\"/html/body/div[1]/div[3]/div[2]/section[1]/div[2]/div[12]/div[2]/div[2]/label/p\")\n",
    "search_checkbox.click()"
   ]
  },
  {
   "cell_type": "code",
   "execution_count": 146,
   "id": "a7b8f62a",
   "metadata": {},
   "outputs": [],
   "source": [
    "search_salary=driver.find_element_by_xpath(\"/html/body/div[1]/div[3]/div[2]/section[1]/div[2]/div[5]/div[2]/div[2]\")\n",
    "search_salary.click()"
   ]
  },
  {
   "cell_type": "code",
   "execution_count": 147,
   "id": "315e2f7e",
   "metadata": {},
   "outputs": [],
   "source": [
    "job_titles=[]\n",
    "job_location=[]\n",
    "company_names=[]\n",
    "salary_perannum=[]"
   ]
  },
  {
   "cell_type": "code",
   "execution_count": 148,
   "id": "cf3a9233",
   "metadata": {},
   "outputs": [
    {
     "data": {
      "text/plain": [
       "['Hiring For Senior Data Scientist-Noida',\n",
       " 'Opening For Data Scientist',\n",
       " 'Data Scientist (freelance)',\n",
       " 'Data Scientist/ Machine Learning, 2022 Passout Can also apply',\n",
       " 'Data Scientist',\n",
       " 'Data Scientist',\n",
       " 'Urgent Requirement || Data Scientist || Noida',\n",
       " 'Senior Data Scientist',\n",
       " 'AM Data Scientist - Goods & Service Tax Network, Delhi',\n",
       " 'Data Scientist - MIND Infotech']"
      ]
     },
     "execution_count": 148,
     "metadata": {},
     "output_type": "execute_result"
    }
   ],
   "source": [
    "titles_tags=driver.find_elements_by_xpath(\"//a[@class='title fw500 ellipsis']\")\n",
    "titles_tags[0:10]\n",
    "for i in titles_tags:\n",
    "    title=i.text\n",
    "    job_titles.append(title)\n",
    "job_titles[0:10]"
   ]
  },
  {
   "cell_type": "code",
   "execution_count": 149,
   "id": "05b46f01",
   "metadata": {},
   "outputs": [
    {
     "data": {
      "text/plain": [
       "['Lumiq.ai',\n",
       " 'Care Health Insurance',\n",
       " '2Coms',\n",
       " 'Creative Hands HR Consultancy',\n",
       " 'BlackBuck',\n",
       " 'Boston Consulting Group',\n",
       " 'HCL Technologies',\n",
       " 'iNICU',\n",
       " 'NISG (National Institute for Smart Government)',\n",
       " 'MOTHERSONSUMI INFOTECH & DESIGNS LIMITED']"
      ]
     },
     "execution_count": 149,
     "metadata": {},
     "output_type": "execute_result"
    }
   ],
   "source": [
    "company_tags=driver.find_elements_by_xpath(\"//a[@class='subTitle ellipsis fleft']\")\n",
    "company_tags[0:10]\n",
    "for i in company_tags:\n",
    "    company=i.text\n",
    "    company_names.append(company)\n",
    "company_names[0:10]"
   ]
  },
  {
   "cell_type": "code",
   "execution_count": 150,
   "id": "063f57bd",
   "metadata": {},
   "outputs": [
    {
     "data": {
      "text/plain": [
       "['Noida, Greater Noida, Delhi / NCR',\n",
       " 'Gurgaon/Gurugram',\n",
       " 'New Delhi, Delhi',\n",
       " 'Hyderabad/Secunderabad, Ahmedabad, Chennai, Bangalore/Bengaluru, Delhi / NCR, Mumbai (All Areas)',\n",
       " 'Gurgaon, Bengaluru',\n",
       " 'New Delhi',\n",
       " 'Noida, Delhi / NCR',\n",
       " 'Delhi',\n",
       " 'Delhi / NCR',\n",
       " 'Noida']"
      ]
     },
     "execution_count": 150,
     "metadata": {},
     "output_type": "execute_result"
    }
   ],
   "source": [
    "location_tags=driver.find_elements_by_xpath(\"//li[@class='fleft grey-text br2 placeHolderLi location']\")\n",
    "location_tags[0:10]\n",
    "for i in location_tags:\n",
    "    location=i.text\n",
    "    job_location.append(location)\n",
    "job_location[0:10]"
   ]
  },
  {
   "cell_type": "code",
   "execution_count": 151,
   "id": "248f8b1f",
   "metadata": {},
   "outputs": [
    {
     "data": {
      "text/plain": [
       "['Not disclosed',\n",
       " '3,00,000 - 7,00,000 PA.',\n",
       " '4,75,000 - 9,75,000 PA.',\n",
       " '5,00,000 - 7,00,000 PA.',\n",
       " 'Not disclosed',\n",
       " 'Not disclosed',\n",
       " 'Not disclosed',\n",
       " 'Not disclosed',\n",
       " 'Not disclosed',\n",
       " 'Not disclosed']"
      ]
     },
     "execution_count": 151,
     "metadata": {},
     "output_type": "execute_result"
    }
   ],
   "source": [
    "salary_tags=driver.find_elements_by_xpath(\"//li[@class='fleft grey-text br2 placeHolderLi salary']\")\n",
    "salary_tags[0:10]\n",
    "for i in salary_tags:\n",
    "    salary=i.text\n",
    "    salary_perannum.append(salary)\n",
    "salary_perannum[0:10]"
   ]
  },
  {
   "cell_type": "code",
   "execution_count": 152,
   "id": "ef7724a5",
   "metadata": {},
   "outputs": [
    {
     "name": "stdout",
     "output_type": "stream",
     "text": [
      "20 20 20 20\n"
     ]
    }
   ],
   "source": [
    "print(len(job_titles),len(company_names),len(job_location),len(salary_perannum))"
   ]
  },
  {
   "cell_type": "code",
   "execution_count": 153,
   "id": "bac5c67c",
   "metadata": {},
   "outputs": [],
   "source": [
    "jobs=pd.DataFrame({})\n",
    "jobs[\"title\"]=job_titles\n",
    "jobs[\"company\"]=company_names\n",
    "jobs[\"location\"]=job_location\n",
    "jobs[\"salary\"]=salary_perannum"
   ]
  },
  {
   "cell_type": "code",
   "execution_count": 154,
   "id": "718c8ea2",
   "metadata": {},
   "outputs": [
    {
     "data": {
      "text/html": [
       "<div>\n",
       "<style scoped>\n",
       "    .dataframe tbody tr th:only-of-type {\n",
       "        vertical-align: middle;\n",
       "    }\n",
       "\n",
       "    .dataframe tbody tr th {\n",
       "        vertical-align: top;\n",
       "    }\n",
       "\n",
       "    .dataframe thead th {\n",
       "        text-align: right;\n",
       "    }\n",
       "</style>\n",
       "<table border=\"1\" class=\"dataframe\">\n",
       "  <thead>\n",
       "    <tr style=\"text-align: right;\">\n",
       "      <th></th>\n",
       "      <th>title</th>\n",
       "      <th>company</th>\n",
       "      <th>location</th>\n",
       "      <th>salary</th>\n",
       "    </tr>\n",
       "  </thead>\n",
       "  <tbody>\n",
       "    <tr>\n",
       "      <th>0</th>\n",
       "      <td>Hiring For Senior Data Scientist-Noida</td>\n",
       "      <td>Lumiq.ai</td>\n",
       "      <td>Noida, Greater Noida, Delhi / NCR</td>\n",
       "      <td>Not disclosed</td>\n",
       "    </tr>\n",
       "    <tr>\n",
       "      <th>1</th>\n",
       "      <td>Opening For Data Scientist</td>\n",
       "      <td>Care Health Insurance</td>\n",
       "      <td>Gurgaon/Gurugram</td>\n",
       "      <td>3,00,000 - 7,00,000 PA.</td>\n",
       "    </tr>\n",
       "    <tr>\n",
       "      <th>2</th>\n",
       "      <td>Data Scientist (freelance)</td>\n",
       "      <td>2Coms</td>\n",
       "      <td>New Delhi, Delhi</td>\n",
       "      <td>4,75,000 - 9,75,000 PA.</td>\n",
       "    </tr>\n",
       "    <tr>\n",
       "      <th>3</th>\n",
       "      <td>Data Scientist/ Machine Learning, 2022 Passout...</td>\n",
       "      <td>Creative Hands HR Consultancy</td>\n",
       "      <td>Hyderabad/Secunderabad, Ahmedabad, Chennai, Ba...</td>\n",
       "      <td>5,00,000 - 7,00,000 PA.</td>\n",
       "    </tr>\n",
       "    <tr>\n",
       "      <th>4</th>\n",
       "      <td>Data Scientist</td>\n",
       "      <td>BlackBuck</td>\n",
       "      <td>Gurgaon, Bengaluru</td>\n",
       "      <td>Not disclosed</td>\n",
       "    </tr>\n",
       "    <tr>\n",
       "      <th>5</th>\n",
       "      <td>Data Scientist</td>\n",
       "      <td>Boston Consulting Group</td>\n",
       "      <td>New Delhi</td>\n",
       "      <td>Not disclosed</td>\n",
       "    </tr>\n",
       "    <tr>\n",
       "      <th>6</th>\n",
       "      <td>Urgent Requirement || Data Scientist || Noida</td>\n",
       "      <td>HCL Technologies</td>\n",
       "      <td>Noida, Delhi / NCR</td>\n",
       "      <td>Not disclosed</td>\n",
       "    </tr>\n",
       "    <tr>\n",
       "      <th>7</th>\n",
       "      <td>Senior Data Scientist</td>\n",
       "      <td>iNICU</td>\n",
       "      <td>Delhi</td>\n",
       "      <td>Not disclosed</td>\n",
       "    </tr>\n",
       "    <tr>\n",
       "      <th>8</th>\n",
       "      <td>AM Data Scientist - Goods &amp; Service Tax Networ...</td>\n",
       "      <td>NISG (National Institute for Smart Government)</td>\n",
       "      <td>Delhi / NCR</td>\n",
       "      <td>Not disclosed</td>\n",
       "    </tr>\n",
       "    <tr>\n",
       "      <th>9</th>\n",
       "      <td>Data Scientist - MIND Infotech</td>\n",
       "      <td>MOTHERSONSUMI INFOTECH &amp; DESIGNS LIMITED</td>\n",
       "      <td>Noida</td>\n",
       "      <td>Not disclosed</td>\n",
       "    </tr>\n",
       "    <tr>\n",
       "      <th>10</th>\n",
       "      <td>Lead Data Scientist</td>\n",
       "      <td>KIA INDIA PRIVATE LIMITED</td>\n",
       "      <td>Gurgaon/Gurugram</td>\n",
       "      <td>Not disclosed</td>\n",
       "    </tr>\n",
       "    <tr>\n",
       "      <th>11</th>\n",
       "      <td>Data Scientist - Python/SQL</td>\n",
       "      <td>AVE-Promagne</td>\n",
       "      <td>Noida, Kota, Mumbai, Chandigarh, Lucknow, Agra...</td>\n",
       "      <td>Not disclosed</td>\n",
       "    </tr>\n",
       "    <tr>\n",
       "      <th>12</th>\n",
       "      <td>Data Scientist</td>\n",
       "      <td>Country Veggie</td>\n",
       "      <td>Bharuch, Jaipur, Bhopal, Mumbai, Jhansi, Nagpu...</td>\n",
       "      <td>Not disclosed</td>\n",
       "    </tr>\n",
       "    <tr>\n",
       "      <th>13</th>\n",
       "      <td>Associate Data Scientist</td>\n",
       "      <td>Right Step Consulting</td>\n",
       "      <td>Noida</td>\n",
       "      <td>Not disclosed</td>\n",
       "    </tr>\n",
       "    <tr>\n",
       "      <th>14</th>\n",
       "      <td>Junior AI Data Scientist</td>\n",
       "      <td>Seven Consultancy (HR Solution)</td>\n",
       "      <td>New Delhi</td>\n",
       "      <td>Not disclosed</td>\n",
       "    </tr>\n",
       "    <tr>\n",
       "      <th>15</th>\n",
       "      <td>AM - Data Scientist</td>\n",
       "      <td>GSTN</td>\n",
       "      <td>Delhi / NCR</td>\n",
       "      <td>4,00,000 - 7,50,000 PA.</td>\n",
       "    </tr>\n",
       "    <tr>\n",
       "      <th>16</th>\n",
       "      <td>Data scientist- Python</td>\n",
       "      <td>TeamPlus Staffing Solution Pvt Ltd</td>\n",
       "      <td>Gurgaon/Gurugram</td>\n",
       "      <td>Not disclosed</td>\n",
       "    </tr>\n",
       "    <tr>\n",
       "      <th>17</th>\n",
       "      <td>Data Scientist</td>\n",
       "      <td>T &amp; A Solutions</td>\n",
       "      <td>Gurgaon/Gurugram</td>\n",
       "      <td>Not disclosed</td>\n",
       "    </tr>\n",
       "    <tr>\n",
       "      <th>18</th>\n",
       "      <td>Data Scientist</td>\n",
       "      <td>itForte Staffing Services Private Ltd.</td>\n",
       "      <td>Gurgaon</td>\n",
       "      <td>Not disclosed</td>\n",
       "    </tr>\n",
       "    <tr>\n",
       "      <th>19</th>\n",
       "      <td>Data Scientist</td>\n",
       "      <td>CELEBAL TECHNOLOGIES PRIVATE LIMITED</td>\n",
       "      <td>Ahmedabad, Jaipur, Delhi / NCR</td>\n",
       "      <td>Not disclosed</td>\n",
       "    </tr>\n",
       "  </tbody>\n",
       "</table>\n",
       "</div>"
      ],
      "text/plain": [
       "                                                title  \\\n",
       "0              Hiring For Senior Data Scientist-Noida   \n",
       "1                          Opening For Data Scientist   \n",
       "2                          Data Scientist (freelance)   \n",
       "3   Data Scientist/ Machine Learning, 2022 Passout...   \n",
       "4                                      Data Scientist   \n",
       "5                                      Data Scientist   \n",
       "6       Urgent Requirement || Data Scientist || Noida   \n",
       "7                               Senior Data Scientist   \n",
       "8   AM Data Scientist - Goods & Service Tax Networ...   \n",
       "9                      Data Scientist - MIND Infotech   \n",
       "10                                Lead Data Scientist   \n",
       "11                        Data Scientist - Python/SQL   \n",
       "12                                     Data Scientist   \n",
       "13                           Associate Data Scientist   \n",
       "14                           Junior AI Data Scientist   \n",
       "15                                AM - Data Scientist   \n",
       "16                             Data scientist- Python   \n",
       "17                                     Data Scientist   \n",
       "18                                     Data Scientist   \n",
       "19                                     Data Scientist   \n",
       "\n",
       "                                           company  \\\n",
       "0                                         Lumiq.ai   \n",
       "1                            Care Health Insurance   \n",
       "2                                            2Coms   \n",
       "3                    Creative Hands HR Consultancy   \n",
       "4                                        BlackBuck   \n",
       "5                          Boston Consulting Group   \n",
       "6                                 HCL Technologies   \n",
       "7                                            iNICU   \n",
       "8   NISG (National Institute for Smart Government)   \n",
       "9         MOTHERSONSUMI INFOTECH & DESIGNS LIMITED   \n",
       "10                       KIA INDIA PRIVATE LIMITED   \n",
       "11                                    AVE-Promagne   \n",
       "12                                  Country Veggie   \n",
       "13                           Right Step Consulting   \n",
       "14                 Seven Consultancy (HR Solution)   \n",
       "15                                            GSTN   \n",
       "16              TeamPlus Staffing Solution Pvt Ltd   \n",
       "17                                 T & A Solutions   \n",
       "18          itForte Staffing Services Private Ltd.   \n",
       "19            CELEBAL TECHNOLOGIES PRIVATE LIMITED   \n",
       "\n",
       "                                             location                   salary  \n",
       "0                   Noida, Greater Noida, Delhi / NCR            Not disclosed  \n",
       "1                                    Gurgaon/Gurugram  3,00,000 - 7,00,000 PA.  \n",
       "2                                    New Delhi, Delhi  4,75,000 - 9,75,000 PA.  \n",
       "3   Hyderabad/Secunderabad, Ahmedabad, Chennai, Ba...  5,00,000 - 7,00,000 PA.  \n",
       "4                                  Gurgaon, Bengaluru            Not disclosed  \n",
       "5                                           New Delhi            Not disclosed  \n",
       "6                                  Noida, Delhi / NCR            Not disclosed  \n",
       "7                                               Delhi            Not disclosed  \n",
       "8                                         Delhi / NCR            Not disclosed  \n",
       "9                                               Noida            Not disclosed  \n",
       "10                                   Gurgaon/Gurugram            Not disclosed  \n",
       "11  Noida, Kota, Mumbai, Chandigarh, Lucknow, Agra...            Not disclosed  \n",
       "12  Bharuch, Jaipur, Bhopal, Mumbai, Jhansi, Nagpu...            Not disclosed  \n",
       "13                                              Noida            Not disclosed  \n",
       "14                                          New Delhi            Not disclosed  \n",
       "15                                        Delhi / NCR  4,00,000 - 7,50,000 PA.  \n",
       "16                                   Gurgaon/Gurugram            Not disclosed  \n",
       "17                                   Gurgaon/Gurugram            Not disclosed  \n",
       "18                                            Gurgaon            Not disclosed  \n",
       "19                     Ahmedabad, Jaipur, Delhi / NCR            Not disclosed  "
      ]
     },
     "execution_count": 154,
     "metadata": {},
     "output_type": "execute_result"
    }
   ],
   "source": [
    "jobs"
   ]
  },
  {
   "cell_type": "code",
   "execution_count": 18,
   "id": "a946da17",
   "metadata": {},
   "outputs": [],
   "source": [
    "#sunglasses\n",
    "import selenium\n",
    "import pandas as pd\n",
    "from selenium import webdriver\n",
    "import warnings\n",
    "warnings.filterwarnings(\"ignore\")\n",
    "import time"
   ]
  },
  {
   "cell_type": "code",
   "execution_count": 19,
   "id": "b72ed2aa",
   "metadata": {},
   "outputs": [],
   "source": [
    "driver = webdriver.Chrome(r\"C:\\Users\\sruth\\Downloads\\chromedriver_win32\\chromedriver.exe\")"
   ]
  },
  {
   "cell_type": "code",
   "execution_count": 20,
   "id": "9b498ca8",
   "metadata": {},
   "outputs": [],
   "source": [
    "driver = webdriver.Chrome(\"chromedriver.exe\")\n",
    "time.sleep(2)"
   ]
  },
  {
   "cell_type": "code",
   "execution_count": 21,
   "id": "01b176f9",
   "metadata": {},
   "outputs": [],
   "source": [
    "driver.get(\"https://www.flipkart.com/\")"
   ]
  },
  {
   "cell_type": "code",
   "execution_count": 22,
   "id": "8d15317e",
   "metadata": {},
   "outputs": [],
   "source": [
    "search_field_product=driver.find_element_by_xpath(\"/html/body/div[1]/div/div[1]/div[1]/div[2]/div[2]/form/div/div/input\")\n",
    "search_field_product.send_keys(\"sunglasses\")"
   ]
  },
  {
   "cell_type": "code",
   "execution_count": 28,
   "id": "e86f5891",
   "metadata": {},
   "outputs": [],
   "source": [
    "search_button=driver.find_element_by_xpath(\"/html/body/div[1]/div/div[1]/div[1]/div[2]/div[2]/form/div/button\")\n",
    "search_button.click()"
   ]
  },
  {
   "cell_type": "code",
   "execution_count": 29,
   "id": "6f0ea239",
   "metadata": {},
   "outputs": [],
   "source": [
    "product_names=[]\n",
    "prices_names=[]\n",
    "product_description=[]\n",
    "discount_names=[]"
   ]
  },
  {
   "cell_type": "code",
   "execution_count": 37,
   "id": "e4d8e60e",
   "metadata": {},
   "outputs": [
    {
     "data": {
      "text/plain": [
       "['john jacobs',\n",
       " 'ROZZETTA CRAFT',\n",
       " 'Elligator',\n",
       " 'PIRASO',\n",
       " 'SRPM',\n",
       " 'New Specs',\n",
       " 'Fastrack',\n",
       " 'john jacobs',\n",
       " 'SHAAH COLLECTIONS',\n",
       " 'SUNBEE',\n",
       " 'Lee Topper',\n",
       " 'john jacobs',\n",
       " 'Lee Topper',\n",
       " 'PIRASO',\n",
       " 'SUNBEE',\n",
       " 'PIRASO',\n",
       " 'ROZZETTA CRAFT',\n",
       " 'PIRASO',\n",
       " 'PIRASO',\n",
       " 'PIRASO',\n",
       " 'Fastrack',\n",
       " 'GANSTA',\n",
       " 'New Specs',\n",
       " 'Rich Club',\n",
       " 'kingsunglasses',\n",
       " 'hipe',\n",
       " 'kingsunglasses',\n",
       " 'PIRASO',\n",
       " 'SRPM',\n",
       " 'hipe',\n",
       " 'SRPM',\n",
       " 'NuVew',\n",
       " 'DEIXELS',\n",
       " 'Elligator',\n",
       " 'hipe',\n",
       " 'Rich Club',\n",
       " 'SHAAH COLLECTIONS',\n",
       " 'SUNBEE',\n",
       " 'Fastrack',\n",
       " 'VINCENT CHASE',\n",
       " 'john jacobs',\n",
       " 'ROZZETTA CRAFT',\n",
       " 'Elligator',\n",
       " 'PIRASO',\n",
       " 'SRPM',\n",
       " 'New Specs',\n",
       " 'Fastrack',\n",
       " 'john jacobs',\n",
       " 'SHAAH COLLECTIONS',\n",
       " 'SUNBEE',\n",
       " 'Lee Topper',\n",
       " 'john jacobs',\n",
       " 'Lee Topper',\n",
       " 'PIRASO',\n",
       " 'SUNBEE',\n",
       " 'PIRASO',\n",
       " 'ROZZETTA CRAFT',\n",
       " 'PIRASO',\n",
       " 'PIRASO',\n",
       " 'PIRASO',\n",
       " 'Fastrack',\n",
       " 'GANSTA',\n",
       " 'New Specs',\n",
       " 'Rich Club',\n",
       " 'kingsunglasses',\n",
       " 'hipe',\n",
       " 'kingsunglasses',\n",
       " 'PIRASO',\n",
       " 'SRPM',\n",
       " 'hipe',\n",
       " 'SRPM',\n",
       " 'NuVew',\n",
       " 'DEIXELS',\n",
       " 'Elligator',\n",
       " 'hipe',\n",
       " 'Rich Club',\n",
       " 'SHAAH COLLECTIONS',\n",
       " 'SUNBEE',\n",
       " 'Fastrack',\n",
       " 'VINCENT CHASE']"
      ]
     },
     "execution_count": 37,
     "metadata": {},
     "output_type": "execute_result"
    }
   ],
   "source": [
    "product_tags=driver.find_elements_by_xpath(\"//div[@class='_2WkVRV']\")\n",
    "product_tags[0:100]\n",
    "for i in product_tags:\n",
    "    product=i.text\n",
    "    product_names.append(product)\n",
    "product_names[0:100]"
   ]
  },
  {
   "cell_type": "code",
   "execution_count": 38,
   "id": "96d4dd44",
   "metadata": {},
   "outputs": [
    {
     "data": {
      "text/plain": [
       "['₹3,900',\n",
       " '₹379',\n",
       " '₹295',\n",
       " '₹249',\n",
       " '₹250',\n",
       " '₹265',\n",
       " '₹639',\n",
       " '₹3,500',\n",
       " '₹185',\n",
       " '₹273',\n",
       " '₹275',\n",
       " '₹2,500',\n",
       " '₹199',\n",
       " '₹249',\n",
       " '₹249',\n",
       " '₹399',\n",
       " '₹474',\n",
       " '₹249',\n",
       " '₹225',\n",
       " '₹325',\n",
       " '₹639',\n",
       " '₹221',\n",
       " '₹299',\n",
       " '₹348',\n",
       " '₹269',\n",
       " '₹233',\n",
       " '₹209',\n",
       " '₹349',\n",
       " '₹246',\n",
       " '₹258',\n",
       " '₹219',\n",
       " '₹185',\n",
       " '₹217',\n",
       " '₹229',\n",
       " '₹210',\n",
       " '₹253',\n",
       " '₹203',\n",
       " '₹314',\n",
       " '₹719',\n",
       " '₹649',\n",
       " '₹3,900',\n",
       " '₹379',\n",
       " '₹295',\n",
       " '₹249',\n",
       " '₹250',\n",
       " '₹265',\n",
       " '₹639',\n",
       " '₹3,500',\n",
       " '₹185',\n",
       " '₹273',\n",
       " '₹275',\n",
       " '₹2,500',\n",
       " '₹199',\n",
       " '₹249',\n",
       " '₹249',\n",
       " '₹399',\n",
       " '₹474',\n",
       " '₹249',\n",
       " '₹225',\n",
       " '₹325',\n",
       " '₹639',\n",
       " '₹221',\n",
       " '₹299',\n",
       " '₹348',\n",
       " '₹269',\n",
       " '₹233',\n",
       " '₹209',\n",
       " '₹349',\n",
       " '₹246',\n",
       " '₹258',\n",
       " '₹219',\n",
       " '₹185',\n",
       " '₹217',\n",
       " '₹229',\n",
       " '₹210',\n",
       " '₹253',\n",
       " '₹203',\n",
       " '₹314',\n",
       " '₹719',\n",
       " '₹649']"
      ]
     },
     "execution_count": 38,
     "metadata": {},
     "output_type": "execute_result"
    }
   ],
   "source": [
    "prices_tags=driver.find_elements_by_xpath(\"//div[@class='_30jeq3']\")\n",
    "prices_tags[0:100]\n",
    "for i in prices_tags:\n",
    "    price=i.text\n",
    "    prices_names.append(price)\n",
    "prices_names[0:100]"
   ]
  },
  {
   "cell_type": "code",
   "execution_count": 39,
   "id": "3f5bed10",
   "metadata": {},
   "outputs": [
    {
     "data": {
      "text/plain": [
       "['₹6,000',\n",
       " '₹1,999',\n",
       " '₹2,495',\n",
       " '₹1,599',\n",
       " '₹1,299',\n",
       " '₹1,999',\n",
       " '₹799',\n",
       " '₹5,000',\n",
       " '₹1,699',\n",
       " '₹1,299',\n",
       " '₹2,499',\n",
       " '₹5,000',\n",
       " '₹999',\n",
       " '₹1,599',\n",
       " '₹1,299',\n",
       " '₹2,599',\n",
       " '₹1,999',\n",
       " '₹1,599',\n",
       " '₹1,599',\n",
       " '₹2,999',\n",
       " '₹799',\n",
       " '₹1,799',\n",
       " '₹1,599',\n",
       " '₹999',\n",
       " '₹1,999',\n",
       " '₹999',\n",
       " '₹1,199',\n",
       " '₹1,599',\n",
       " '₹998',\n",
       " '₹1,899',\n",
       " '₹999',\n",
       " '₹1,050',\n",
       " '₹1,199',\n",
       " '₹998',\n",
       " '₹1,466',\n",
       " '₹799',\n",
       " '₹999',\n",
       " '₹1,699',\n",
       " '₹899',\n",
       " '₹1,999',\n",
       " '₹6,000',\n",
       " '₹1,999',\n",
       " '₹2,495',\n",
       " '₹1,599',\n",
       " '₹1,299',\n",
       " '₹1,999',\n",
       " '₹799',\n",
       " '₹5,000',\n",
       " '₹1,699',\n",
       " '₹1,299',\n",
       " '₹2,499',\n",
       " '₹5,000',\n",
       " '₹999',\n",
       " '₹1,599',\n",
       " '₹1,299',\n",
       " '₹2,599',\n",
       " '₹1,999',\n",
       " '₹1,599',\n",
       " '₹1,599',\n",
       " '₹2,999',\n",
       " '₹799',\n",
       " '₹1,799',\n",
       " '₹1,599',\n",
       " '₹999',\n",
       " '₹1,999',\n",
       " '₹999',\n",
       " '₹1,199',\n",
       " '₹1,599',\n",
       " '₹998',\n",
       " '₹1,899',\n",
       " '₹999',\n",
       " '₹1,050',\n",
       " '₹1,199',\n",
       " '₹998',\n",
       " '₹1,466',\n",
       " '₹799',\n",
       " '₹999',\n",
       " '₹1,699',\n",
       " '₹899',\n",
       " '₹1,999']"
      ]
     },
     "execution_count": 39,
     "metadata": {},
     "output_type": "execute_result"
    }
   ],
   "source": [
    "discount_tags=driver.find_elements_by_xpath(\"//div[@class='_3I9_wc']\")\n",
    "discount_tags[0:100]\n",
    "for i in discount_tags:\n",
    "    price=i.text\n",
    "    discount_names.append(price)\n",
    "discount_names[0:100]"
   ]
  },
  {
   "cell_type": "code",
   "execution_count": 40,
   "id": "8c56ca5a",
   "metadata": {},
   "outputs": [
    {
     "data": {
      "text/plain": [
       "['UV Protection Clubmaster Sunglasses (47)',\n",
       " 'UV Protection, Gradient Rectangular Sunglasses (Free Si...',\n",
       " 'UV Protection Round Sunglasses (54)',\n",
       " 'UV Protection Aviator Sunglasses (54)',\n",
       " 'UV Protection Wayfarer Sunglasses (50)',\n",
       " 'UV Protection Rectangular Sunglasses (Free Size)',\n",
       " 'UV Protection Rectangular Sunglasses (Free Size)',\n",
       " 'UV Protection Aviator Sunglasses (55)',\n",
       " 'UV Protection, Polarized, Mirrored Rectangular Sunglass...',\n",
       " 'UV Protection, Polarized Wayfarer Sunglasses (Free Size...',\n",
       " 'Riding Glasses Wrap-around Sunglasses (Free Size)',\n",
       " 'UV Protection Round Sunglasses (54)',\n",
       " 'UV Protection Rectangular Sunglasses (Free Size)',\n",
       " 'UV Protection Aviator Sunglasses (54)',\n",
       " 'UV Protection, Polarized, Mirrored Retro Square Sunglas...',\n",
       " 'UV Protection Butterfly Sunglasses (60)',\n",
       " 'Polarized, Riding Glasses Sports, Wrap-around Sunglasse...',\n",
       " 'UV Protection Aviator Sunglasses (54)',\n",
       " 'UV Protection Wayfarer Sunglasses (32)',\n",
       " 'UV Protection Rectangular, Over-sized Sunglasses (Free ...',\n",
       " 'Gradient, UV Protection Wayfarer Sunglasses (Free Size)',\n",
       " 'UV Protection, Riding Glasses Wayfarer Sunglasses (53)',\n",
       " 'Mirrored, UV Protection, Riding Glasses, Others Round S...',\n",
       " 'Polarized, UV Protection, Riding Glasses Wayfarer, Rect...',\n",
       " 'Mirrored, UV Protection Wayfarer Sunglasses (Free Size)',\n",
       " 'Mirrored Wayfarer Sunglasses (55)',\n",
       " 'UV Protection, Riding Glasses, Mirrored Wayfarer Sungla...',\n",
       " 'UV Protection Aviator Sunglasses (50)',\n",
       " 'UV Protection Wayfarer Sunglasses (53)',\n",
       " 'UV Protection Sports Sunglasses (Free Size)',\n",
       " 'UV Protection Wayfarer Sunglasses (54)',\n",
       " 'UV Protection Retro Square, Wayfarer Sunglasses (58)',\n",
       " 'UV Protection Aviator, Wayfarer Sunglasses (Free Size)',\n",
       " 'UV Protection Round Sunglasses (53)',\n",
       " 'Mirrored, UV Protection, Gradient Round Sunglasses (55)',\n",
       " 'UV Protection, Mirrored, Gradient Round Sunglasses (51)',\n",
       " 'UV Protection, Polarized, Mirrored Rectangular Sunglass...',\n",
       " 'UV Protection, Polarized, Mirrored Round Sunglasses (Fr...',\n",
       " 'UV Protection Wayfarer Sunglasses (Free Size)',\n",
       " 'UV Protection Cat-eye Sunglasses (54)',\n",
       " 'UV Protection Clubmaster Sunglasses (47)',\n",
       " 'UV Protection, Gradient Rectangular Sunglasses (Free Si...',\n",
       " 'UV Protection Round Sunglasses (54)',\n",
       " 'UV Protection Aviator Sunglasses (54)',\n",
       " 'UV Protection Wayfarer Sunglasses (50)',\n",
       " 'UV Protection Rectangular Sunglasses (Free Size)',\n",
       " 'UV Protection Rectangular Sunglasses (Free Size)',\n",
       " 'UV Protection Aviator Sunglasses (55)',\n",
       " 'UV Protection, Polarized, Mirrored Rectangular Sunglass...',\n",
       " 'UV Protection, Polarized Wayfarer Sunglasses (Free Size...',\n",
       " 'Riding Glasses Wrap-around Sunglasses (Free Size)',\n",
       " 'UV Protection Round Sunglasses (54)',\n",
       " 'UV Protection Rectangular Sunglasses (Free Size)',\n",
       " 'UV Protection Aviator Sunglasses (54)',\n",
       " 'UV Protection, Polarized, Mirrored Retro Square Sunglas...',\n",
       " 'UV Protection Butterfly Sunglasses (60)',\n",
       " 'Polarized, Riding Glasses Sports, Wrap-around Sunglasse...',\n",
       " 'UV Protection Aviator Sunglasses (54)',\n",
       " 'UV Protection Wayfarer Sunglasses (32)',\n",
       " 'UV Protection Rectangular, Over-sized Sunglasses (Free ...',\n",
       " 'Gradient, UV Protection Wayfarer Sunglasses (Free Size)',\n",
       " 'UV Protection, Riding Glasses Wayfarer Sunglasses (53)',\n",
       " 'Mirrored, UV Protection, Riding Glasses, Others Round S...',\n",
       " 'Polarized, UV Protection, Riding Glasses Wayfarer, Rect...',\n",
       " 'Mirrored, UV Protection Wayfarer Sunglasses (Free Size)',\n",
       " 'Mirrored Wayfarer Sunglasses (55)',\n",
       " 'UV Protection, Riding Glasses, Mirrored Wayfarer Sungla...',\n",
       " 'UV Protection Aviator Sunglasses (50)',\n",
       " 'UV Protection Wayfarer Sunglasses (53)',\n",
       " 'UV Protection Sports Sunglasses (Free Size)',\n",
       " 'UV Protection Wayfarer Sunglasses (54)',\n",
       " 'UV Protection Retro Square, Wayfarer Sunglasses (58)',\n",
       " 'UV Protection Aviator, Wayfarer Sunglasses (Free Size)',\n",
       " 'UV Protection Round Sunglasses (53)',\n",
       " 'Mirrored, UV Protection, Gradient Round Sunglasses (55)',\n",
       " 'UV Protection, Mirrored, Gradient Round Sunglasses (51)',\n",
       " 'UV Protection, Polarized, Mirrored Rectangular Sunglass...',\n",
       " 'UV Protection, Polarized, Mirrored Round Sunglasses (Fr...',\n",
       " 'UV Protection Wayfarer Sunglasses (Free Size)',\n",
       " 'UV Protection Cat-eye Sunglasses (54)']"
      ]
     },
     "execution_count": 40,
     "metadata": {},
     "output_type": "execute_result"
    }
   ],
   "source": [
    "discription_tags=driver.find_elements_by_xpath(\"//a[@class='IRpwTa']\")\n",
    "discription_tags[0:100]\n",
    "for i in discription_tags:\n",
    "    discription=i.text\n",
    "    product_description.append(discription)\n",
    "product_description[0:100]"
   ]
  },
  {
   "cell_type": "code",
   "execution_count": 41,
   "id": "52ce0106",
   "metadata": {},
   "outputs": [],
   "source": [
    "products=pd.DataFrame({})\n",
    "products[\"title\"]=product_names\n",
    "products[\"prices\"]=prices_names\n",
    "products[\"description\"]=product_description\n",
    "products[\"discounts\"]=discount_names"
   ]
  },
  {
   "cell_type": "code",
   "execution_count": 42,
   "id": "a0f2a976",
   "metadata": {},
   "outputs": [
    {
     "data": {
      "text/html": [
       "<div>\n",
       "<style scoped>\n",
       "    .dataframe tbody tr th:only-of-type {\n",
       "        vertical-align: middle;\n",
       "    }\n",
       "\n",
       "    .dataframe tbody tr th {\n",
       "        vertical-align: top;\n",
       "    }\n",
       "\n",
       "    .dataframe thead th {\n",
       "        text-align: right;\n",
       "    }\n",
       "</style>\n",
       "<table border=\"1\" class=\"dataframe\">\n",
       "  <thead>\n",
       "    <tr style=\"text-align: right;\">\n",
       "      <th></th>\n",
       "      <th>title</th>\n",
       "      <th>prices</th>\n",
       "      <th>description</th>\n",
       "      <th>discounts</th>\n",
       "    </tr>\n",
       "  </thead>\n",
       "  <tbody>\n",
       "    <tr>\n",
       "      <th>0</th>\n",
       "      <td>john jacobs</td>\n",
       "      <td>₹3,900</td>\n",
       "      <td>UV Protection Clubmaster Sunglasses (47)</td>\n",
       "      <td>₹6,000</td>\n",
       "    </tr>\n",
       "    <tr>\n",
       "      <th>1</th>\n",
       "      <td>ROZZETTA CRAFT</td>\n",
       "      <td>₹379</td>\n",
       "      <td>UV Protection, Gradient Rectangular Sunglasses...</td>\n",
       "      <td>₹1,999</td>\n",
       "    </tr>\n",
       "    <tr>\n",
       "      <th>2</th>\n",
       "      <td>Elligator</td>\n",
       "      <td>₹295</td>\n",
       "      <td>UV Protection Round Sunglasses (54)</td>\n",
       "      <td>₹2,495</td>\n",
       "    </tr>\n",
       "    <tr>\n",
       "      <th>3</th>\n",
       "      <td>PIRASO</td>\n",
       "      <td>₹249</td>\n",
       "      <td>UV Protection Aviator Sunglasses (54)</td>\n",
       "      <td>₹1,599</td>\n",
       "    </tr>\n",
       "    <tr>\n",
       "      <th>4</th>\n",
       "      <td>SRPM</td>\n",
       "      <td>₹250</td>\n",
       "      <td>UV Protection Wayfarer Sunglasses (50)</td>\n",
       "      <td>₹1,299</td>\n",
       "    </tr>\n",
       "    <tr>\n",
       "      <th>...</th>\n",
       "      <td>...</td>\n",
       "      <td>...</td>\n",
       "      <td>...</td>\n",
       "      <td>...</td>\n",
       "    </tr>\n",
       "    <tr>\n",
       "      <th>75</th>\n",
       "      <td>Rich Club</td>\n",
       "      <td>₹253</td>\n",
       "      <td>UV Protection, Mirrored, Gradient Round Sungla...</td>\n",
       "      <td>₹799</td>\n",
       "    </tr>\n",
       "    <tr>\n",
       "      <th>76</th>\n",
       "      <td>SHAAH COLLECTIONS</td>\n",
       "      <td>₹203</td>\n",
       "      <td>UV Protection, Polarized, Mirrored Rectangular...</td>\n",
       "      <td>₹999</td>\n",
       "    </tr>\n",
       "    <tr>\n",
       "      <th>77</th>\n",
       "      <td>SUNBEE</td>\n",
       "      <td>₹314</td>\n",
       "      <td>UV Protection, Polarized, Mirrored Round Sungl...</td>\n",
       "      <td>₹1,699</td>\n",
       "    </tr>\n",
       "    <tr>\n",
       "      <th>78</th>\n",
       "      <td>Fastrack</td>\n",
       "      <td>₹719</td>\n",
       "      <td>UV Protection Wayfarer Sunglasses (Free Size)</td>\n",
       "      <td>₹899</td>\n",
       "    </tr>\n",
       "    <tr>\n",
       "      <th>79</th>\n",
       "      <td>VINCENT CHASE</td>\n",
       "      <td>₹649</td>\n",
       "      <td>UV Protection Cat-eye Sunglasses (54)</td>\n",
       "      <td>₹1,999</td>\n",
       "    </tr>\n",
       "  </tbody>\n",
       "</table>\n",
       "<p>80 rows × 4 columns</p>\n",
       "</div>"
      ],
      "text/plain": [
       "                title  prices  \\\n",
       "0         john jacobs  ₹3,900   \n",
       "1      ROZZETTA CRAFT    ₹379   \n",
       "2           Elligator    ₹295   \n",
       "3              PIRASO    ₹249   \n",
       "4                SRPM    ₹250   \n",
       "..                ...     ...   \n",
       "75          Rich Club    ₹253   \n",
       "76  SHAAH COLLECTIONS    ₹203   \n",
       "77             SUNBEE    ₹314   \n",
       "78           Fastrack    ₹719   \n",
       "79      VINCENT CHASE    ₹649   \n",
       "\n",
       "                                          description discounts  \n",
       "0            UV Protection Clubmaster Sunglasses (47)    ₹6,000  \n",
       "1   UV Protection, Gradient Rectangular Sunglasses...    ₹1,999  \n",
       "2                 UV Protection Round Sunglasses (54)    ₹2,495  \n",
       "3               UV Protection Aviator Sunglasses (54)    ₹1,599  \n",
       "4              UV Protection Wayfarer Sunglasses (50)    ₹1,299  \n",
       "..                                                ...       ...  \n",
       "75  UV Protection, Mirrored, Gradient Round Sungla...      ₹799  \n",
       "76  UV Protection, Polarized, Mirrored Rectangular...      ₹999  \n",
       "77  UV Protection, Polarized, Mirrored Round Sungl...    ₹1,699  \n",
       "78      UV Protection Wayfarer Sunglasses (Free Size)      ₹899  \n",
       "79              UV Protection Cat-eye Sunglasses (54)    ₹1,999  \n",
       "\n",
       "[80 rows x 4 columns]"
      ]
     },
     "execution_count": 42,
     "metadata": {},
     "output_type": "execute_result"
    }
   ],
   "source": [
    "products"
   ]
  },
  {
   "cell_type": "code",
   "execution_count": 99,
   "id": "5b9248b8",
   "metadata": {},
   "outputs": [],
   "source": [
    "#mobile phone\n",
    "import selenium\n",
    "import pandas as pd\n",
    "from selenium import webdriver\n",
    "import warnings\n",
    "warnings.filterwarnings(\"ignore\")\n",
    "import time"
   ]
  },
  {
   "cell_type": "code",
   "execution_count": 100,
   "id": "77e0f3ea",
   "metadata": {},
   "outputs": [],
   "source": [
    "driver = webdriver.Chrome(r\"C:\\Users\\sruth\\Downloads\\chromedriver_win32\\chromedriver.exe\")"
   ]
  },
  {
   "cell_type": "code",
   "execution_count": 101,
   "id": "66f09b85",
   "metadata": {},
   "outputs": [],
   "source": [
    "driver = webdriver.Chrome(\"chromedriver.exe\")\n",
    "time.sleep(2)"
   ]
  },
  {
   "cell_type": "code",
   "execution_count": 102,
   "id": "61508e91",
   "metadata": {},
   "outputs": [],
   "source": [
    "driver.get(\"https://www.flipkart.com/\")"
   ]
  },
  {
   "cell_type": "code",
   "execution_count": 103,
   "id": "22b34d5f",
   "metadata": {},
   "outputs": [],
   "source": [
    "search_field_product=driver.find_element_by_xpath(\"/html/body/div[1]/div/div[1]/div[1]/div[2]/div[2]/form/div/div/input\")\n",
    "search_field_product.send_keys(\"mobiles\")\n",
    "time.sleep(5)"
   ]
  },
  {
   "cell_type": "code",
   "execution_count": 104,
   "id": "fb2d1f5d",
   "metadata": {},
   "outputs": [],
   "source": [
    "search_button=driver.find_element_by_xpath(\"/html/body/div[2]/div/div/button\")\n",
    "search_button.click()"
   ]
  },
  {
   "cell_type": "code",
   "execution_count": 105,
   "id": "b9dc4246",
   "metadata": {},
   "outputs": [],
   "source": [
    "search_button=driver.find_element_by_xpath(\"/html/body/div[1]/div/div[1]/div[1]/div[2]/div[2]/form/div/button\")\n",
    "search_button.click()"
   ]
  },
  {
   "cell_type": "code",
   "execution_count": 106,
   "id": "a8dfda16",
   "metadata": {},
   "outputs": [],
   "source": [
    "product_names=[]\n",
    "product_ratings=[]\n",
    "review_summary=[]\n",
    "product_fullreview=[]"
   ]
  },
  {
   "cell_type": "code",
   "execution_count": 107,
   "id": "8d6c5367",
   "metadata": {},
   "outputs": [
    {
     "data": {
      "text/plain": [
       "['POCO C31 (Royal Blue, 64 GB)',\n",
       " 'realme C20 (Cool Blue, 32 GB)',\n",
       " 'realme C20 (Cool Grey, 32 GB)',\n",
       " 'POCO M3 Pro 5G (Yellow, 64 GB)',\n",
       " 'POCO M3 Pro 5G (Cool Blue, 128 GB)',\n",
       " 'realme C11 2021 (Cool Grey, 32 GB)',\n",
       " 'realme C11 2021 (Cool Blue, 32 GB)',\n",
       " 'realme C11 2021 (Cool Blue, 64 GB)',\n",
       " 'SAMSUNG Galaxy F22 (Denim Black, 64 GB)',\n",
       " 'SAMSUNG Galaxy F22 (Denim Blue, 64 GB)',\n",
       " 'realme 9i (Prism Blue, 128 GB)',\n",
       " 'realme 9i (Prism Black, 128 GB)',\n",
       " 'realme 9i (Prism Blue, 64 GB)',\n",
       " 'realme 9i (Prism Black, 128 GB)',\n",
       " 'realme 9i (Prism Black, 64 GB)',\n",
       " 'realme C21Y (Cross Black, 64 GB)',\n",
       " 'realme C21Y (Cross Blue, 64 GB)',\n",
       " 'realme 8 (Cyber Silver, 128 GB)',\n",
       " 'realme 8 (Cyber Black, 128 GB)',\n",
       " 'POCO M3 Pro 5G (Cool Blue, 64 GB)',\n",
       " 'realme C11 2021 (Cool Grey, 64 GB)',\n",
       " 'realme C21Y (Cross Black, 32 GB)',\n",
       " 'realme C21Y (Cross Blue, 32 GB)',\n",
       " 'realme 8 (Cyber Silver, 128 GB)']"
      ]
     },
     "execution_count": 107,
     "metadata": {},
     "output_type": "execute_result"
    }
   ],
   "source": [
    "product_tags=driver.find_elements_by_xpath(\"//div[@class='_4rR01T']\")\n",
    "product_tags[0:100]\n",
    "for i in product_tags:\n",
    "    product=i.text\n",
    "    product_names.append(product)\n",
    "product_names[0:100]"
   ]
  },
  {
   "cell_type": "code",
   "execution_count": 108,
   "id": "3797fb16",
   "metadata": {},
   "outputs": [
    {
     "data": {
      "text/plain": [
       "['4.4',\n",
       " '4.4',\n",
       " '4.4',\n",
       " '4.3',\n",
       " '4.2',\n",
       " '4.4',\n",
       " '4.4',\n",
       " '4.3',\n",
       " '4.3',\n",
       " '4.3',\n",
       " '4.3',\n",
       " '4.3',\n",
       " '4.5',\n",
       " '4.5',\n",
       " '4.5',\n",
       " '4.5',\n",
       " '4.5',\n",
       " '4.4',\n",
       " '4.4',\n",
       " '4.3',\n",
       " '4.3',\n",
       " '4.6',\n",
       " '4.6',\n",
       " '4.4',\n",
       " '4.4',\n",
       " '4.4',\n",
       " '4.3',\n",
       " '4.3',\n",
       " '4.5']"
      ]
     },
     "execution_count": 108,
     "metadata": {},
     "output_type": "execute_result"
    }
   ],
   "source": [
    "product_rating=driver.find_elements_by_xpath(\"//div[@class='_3LWZlK']\")\n",
    "product_rating[0:100]\n",
    "for i in product_rating:\n",
    "    rating=i.text\n",
    "    product_ratings.append(rating)\n",
    "product_ratings[0:100]"
   ]
  },
  {
   "cell_type": "code",
   "execution_count": 110,
   "id": "16b53e97",
   "metadata": {},
   "outputs": [],
   "source": [
    "search_review=driver.find_element_by_xpath(\"/html/body/div[1]/div/div[3]/div[1]/div[2]/div[2]/div/div/div/a/div[2]/div[1]/div[2]/span[2]\")\n",
    "search_review.click()"
   ]
  },
  {
   "cell_type": "code",
   "execution_count": 111,
   "id": "17ebf333",
   "metadata": {},
   "outputs": [
    {
     "data": {
      "text/plain": [
       "['Great mobile with ample features for this price range. Worth the money. Camera clarity improved after updates.',\n",
       " 'Works good and has nice camera quality.',\n",
       " 'This is best budget phone.... Poco C31, and order this product because I have Poco M2 Reloaded, i was gift this phone to my sister on her birthday, she loved...\\nRead full review',\n",
       " 'Nice product',\n",
       " 'Cheapest 5G phone anyone can afford till date with stunning looks. Must go for Cool blue design. Very smooth operation, no UI lag. The best thing is that the...\\nRead full review',\n",
       " 'Good performance and budget phone',\n",
       " 'Very good working phone\\nCamera is fantastic.all is well in this phone\\n(Overall excellent phone in this low price) I am very happy to get this phone in this l...\\nRead full review',\n",
       " 'Finger print missing on this model.',\n",
       " 'A good Mobile in this Budget..Great 👍 Camera quality is Awesome and look and design is really good...Realme 9i is a best mobile ..Loving it ❤',\n",
       " \"That's good option but display not bright...but also good smartphone....😘😘\",\n",
       " 'Great mobile with ample features for this price range. Worth the money. Camera clarity improved after updates.',\n",
       " 'Works good and has nice camera quality.',\n",
       " 'This is best budget phone.... Poco C31, and order this product because I have Poco M2 Reloaded, i was gift this phone to my sister on her birthday, she loved...\\nRead full review',\n",
       " 'Nice product',\n",
       " 'Cheapest 5G phone anyone can afford till date with stunning looks. Must go for Cool blue design. Very smooth operation, no UI lag. The best thing is that the...\\nRead full review',\n",
       " 'Good performance and budget phone',\n",
       " 'Very good working phone\\nCamera is fantastic.all is well in this phone\\n(Overall excellent phone in this low price) I am very happy to get this phone in this l...\\nRead full review',\n",
       " 'Finger print missing on this model.',\n",
       " 'A good Mobile in this Budget..Great 👍 Camera quality is Awesome and look and design is really good...Realme 9i is a best mobile ..Loving it ❤',\n",
       " \"That's good option but display not bright...but also good smartphone....😘😘\"]"
      ]
     },
     "execution_count": 111,
     "metadata": {},
     "output_type": "execute_result"
    }
   ],
   "source": [
    "review_tags=driver.find_elements_by_xpath(\"//div[@class='t-ZTKy']\")\n",
    "review_tags[0:100]\n",
    "for i in review_tags:\n",
    "    review=i.text\n",
    "    review_summary.append(review)\n",
    "review_summary[0:100]"
   ]
  },
  {
   "cell_type": "code",
   "execution_count": null,
   "id": "3adc97b2",
   "metadata": {},
   "outputs": [],
   "source": []
  },
  {
   "cell_type": "code",
   "execution_count": null,
   "id": "c5cfc66e",
   "metadata": {},
   "outputs": [],
   "source": []
  }
 ],
 "metadata": {
  "kernelspec": {
   "display_name": "Python 3 (ipykernel)",
   "language": "python",
   "name": "python3"
  },
  "language_info": {
   "codemirror_mode": {
    "name": "ipython",
    "version": 3
   },
   "file_extension": ".py",
   "mimetype": "text/x-python",
   "name": "python",
   "nbconvert_exporter": "python",
   "pygments_lexer": "ipython3",
   "version": "3.9.7"
  }
 },
 "nbformat": 4,
 "nbformat_minor": 5
}
